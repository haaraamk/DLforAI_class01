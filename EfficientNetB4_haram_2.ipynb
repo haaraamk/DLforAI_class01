{
  "cells": [
    {
      "cell_type": "markdown",
      "metadata": {
        "id": "view-in-github",
        "colab_type": "text"
      },
      "source": [
        "<a href=\"https://colab.research.google.com/github/haaraamk/DLforAI_class01/blob/main/EfficientNetB4_haram_2.ipynb\" target=\"_parent\"><img src=\"https://colab.research.google.com/assets/colab-badge.svg\" alt=\"Open In Colab\"/></a>"
      ]
    },
    {
      "cell_type": "code",
      "source": [
        "from google.colab import drive\n",
        "drive.mount('/content/drive')"
      ],
      "metadata": {
        "colab": {
          "base_uri": "https://localhost:8080/"
        },
        "id": "9wGYxyhOtWHe",
        "outputId": "624b9497-1386-4df7-c959-4c04c72d1491"
      },
      "execution_count": 6,
      "outputs": [
        {
          "output_type": "stream",
          "name": "stdout",
          "text": [
            "Mounted at /content/drive\n"
          ]
        }
      ]
    },
    {
      "cell_type": "code",
      "source": [
        "# 데이터 path 설정 각자 자기 주소에 맞게 설정하면되긴하는데 그냥 이 주소로 통일 하자\n",
        "dpath = \"/content/drive/MyDrive/CAU_BURGER/data/\""
      ],
      "metadata": {
        "id": "zsA1BsnZtXZ5"
      },
      "execution_count": 1,
      "outputs": []
    },
    {
      "cell_type": "markdown",
      "metadata": {
        "tags": [],
        "id": "YUrWhPcfspLc"
      },
      "source": [
        "# Introduction to image classification using camera trap images"
      ]
    },
    {
      "cell_type": "code",
      "source": [
        "!pip install efficientnet"
      ],
      "metadata": {
        "colab": {
          "base_uri": "https://localhost:8080/"
        },
        "id": "ahxE7B-JwidO",
        "outputId": "85a09182-4c3b-42c0-d8fe-639ea5433334"
      },
      "execution_count": 2,
      "outputs": [
        {
          "output_type": "stream",
          "name": "stdout",
          "text": [
            "Looking in indexes: https://pypi.org/simple, https://us-python.pkg.dev/colab-wheels/public/simple/\n",
            "Collecting efficientnet\n",
            "  Downloading efficientnet-1.1.1-py3-none-any.whl (18 kB)\n",
            "Collecting keras-applications<=1.0.8,>=1.0.7 (from efficientnet)\n",
            "  Downloading Keras_Applications-1.0.8-py3-none-any.whl (50 kB)\n",
            "\u001b[2K     \u001b[90m━━━━━━━━━━━━━━━━━━━━━━━━━━━━━━━━━━━━━━━━\u001b[0m \u001b[32m50.7/50.7 kB\u001b[0m \u001b[31m4.5 MB/s\u001b[0m eta \u001b[36m0:00:00\u001b[0m\n",
            "\u001b[?25hRequirement already satisfied: scikit-image in /usr/local/lib/python3.10/dist-packages (from efficientnet) (0.19.3)\n",
            "Requirement already satisfied: numpy>=1.9.1 in /usr/local/lib/python3.10/dist-packages (from keras-applications<=1.0.8,>=1.0.7->efficientnet) (1.22.4)\n",
            "Requirement already satisfied: h5py in /usr/local/lib/python3.10/dist-packages (from keras-applications<=1.0.8,>=1.0.7->efficientnet) (3.8.0)\n",
            "Requirement already satisfied: scipy>=1.4.1 in /usr/local/lib/python3.10/dist-packages (from scikit-image->efficientnet) (1.10.1)\n",
            "Requirement already satisfied: networkx>=2.2 in /usr/local/lib/python3.10/dist-packages (from scikit-image->efficientnet) (3.1)\n",
            "Requirement already satisfied: pillow!=7.1.0,!=7.1.1,!=8.3.0,>=6.1.0 in /usr/local/lib/python3.10/dist-packages (from scikit-image->efficientnet) (8.4.0)\n",
            "Requirement already satisfied: imageio>=2.4.1 in /usr/local/lib/python3.10/dist-packages (from scikit-image->efficientnet) (2.25.1)\n",
            "Requirement already satisfied: tifffile>=2019.7.26 in /usr/local/lib/python3.10/dist-packages (from scikit-image->efficientnet) (2023.4.12)\n",
            "Requirement already satisfied: PyWavelets>=1.1.1 in /usr/local/lib/python3.10/dist-packages (from scikit-image->efficientnet) (1.4.1)\n",
            "Requirement already satisfied: packaging>=20.0 in /usr/local/lib/python3.10/dist-packages (from scikit-image->efficientnet) (23.1)\n",
            "Installing collected packages: keras-applications, efficientnet\n",
            "Successfully installed efficientnet-1.1.1 keras-applications-1.0.8\n"
          ]
        }
      ]
    },
    {
      "cell_type": "code",
      "source": [
        "from efficientnet.tfkeras import EfficientNetB4, preprocess_input"
      ],
      "metadata": {
        "id": "6bX7-EKKwqjx"
      },
      "execution_count": 3,
      "outputs": []
    },
    {
      "cell_type": "markdown",
      "metadata": {
        "id": "s_KyDoFHspLk"
      },
      "source": [
        "Next, let's import some of the usual suspects:"
      ]
    },
    {
      "cell_type": "code",
      "execution_count": 4,
      "metadata": {
        "id": "QgM06Je-spLk"
      },
      "outputs": [],
      "source": [
        "%matplotlib inline\n",
        "\n",
        "import matplotlib.pyplot as plt\n",
        "import pandas as pd\n",
        "from PIL import Image\n",
        "from tqdm import tqdm"
      ]
    },
    {
      "cell_type": "markdown",
      "metadata": {
        "id": "iTfQu0sXspLm"
      },
      "source": [
        "Read in the train and test CSVs first and see what they look like."
      ]
    },
    {
      "cell_type": "code",
      "execution_count": 7,
      "metadata": {
        "id": "5ZuqJjdSspLm"
      },
      "outputs": [],
      "source": [
        "train_features = pd.read_csv(dpath+\"train_features.csv\", index_col=\"id\")\n",
        "test_features = pd.read_csv(dpath+\"test_features.csv\", index_col=\"id\")\n",
        "train_labels = pd.read_csv(dpath+\"train_labels.csv\", index_col=\"id\")"
      ]
    },
    {
      "cell_type": "markdown",
      "metadata": {
        "id": "s0EizV8OspLq"
      },
      "source": [
        "## 3. Explore the data"
      ]
    },
    {
      "cell_type": "markdown",
      "metadata": {
        "id": "IFnesIAEspLs"
      },
      "source": [
        "## 4. Split into train and evaluation sets\n",
        "First, we'll need to split the images into train and eval sets. We'll put aside 25% of the data for evaluation and stratify by the target labels to ensure we have similar relative frequencies of each class in the train and eval sets."
      ]
    },
    {
      "cell_type": "code",
      "execution_count": 8,
      "metadata": {
        "id": "EmaTAb7zspLt"
      },
      "outputs": [],
      "source": [
        "from sklearn.model_selection import train_test_split\n",
        "\n",
        "frac = 0.5\n",
        "\n",
        "y = train_labels.sample(frac=frac, random_state=1)\n",
        "x = train_features.loc[y.index].filepath.to_frame()\n",
        "\n",
        "# note that we are casting the species labels to an indicator/dummy matrix\n",
        "x_train, x_eval, y_train, y_eval = train_test_split(\n",
        "    x, y, stratify=y, test_size=0.25\n",
        ")"
      ]
    },
    {
      "cell_type": "code",
      "source": [
        "# sampling 안하고 모든 데이터 사용\n",
        "# 이 코드는 나중에 모델링 다 끝났을 때 사용하자. 왜? 처음부터 모든 데이터를 사용하면 훈련하는데 시간이 오래걸리니까\n",
        "\n",
        "# from sklearn.model_selection import train_test_split\n",
        "\n",
        "# y = train_labels\n",
        "# x = train_features.loc[:, 'filepath'].to_frame()\n",
        "\n",
        "# x_train, x_eval, y_train, y_eval = train_test_split(\n",
        "#     x, y, stratify=y, test_size=0.25\n",
        "# )"
      ],
      "metadata": {
        "id": "EldvHHrISOoj"
      },
      "execution_count": 8,
      "outputs": []
    },
    {
      "cell_type": "markdown",
      "metadata": {
        "id": "EPFH290jspLv"
      },
      "source": [
        "## 5. Build the Model"
      ]
    },
    {
      "cell_type": "markdown",
      "source": [
        "모델 : efficientnetb4\n",
        "가중치 : 동결\n",
        "fine tuning : x\n",
        "pre-trained model 후 층 dese층 개수 : 1(256)(활성화함수 : relu)\n",
        "드롭아웃 : 0.5\n",
        "optimizer = Adam(learning_rate=0.0001)\n",
        "\n",
        "몇 번째 epoch에서 멈추었는가 : Epoch 16/100\n",
        "\n",
        "loss: 0.5626\n",
        "accuracy: 0.8110\n",
        "val_loss: 0.6739\n",
        "val_accuracy: 0.7866\n",
        "\n",
        "저장한 model 파일 이름 :  EfficientNetB4_haram_1.hd5\n",
        "\n",
        "제출 후 test loss : 1.6580"
      ],
      "metadata": {
        "id": "HO6z3KvaUk9o"
      }
    },
    {
      "cell_type": "code",
      "source": [
        "import matplotlib.pyplot as plt\n",
        "import numpy as np\n",
        "import pandas as pd\n",
        "from PIL import Image\n",
        "from tqdm import tqdm\n",
        "from sklearn.model_selection import train_test_split\n",
        "import tensorflow as tf\n",
        "from tensorflow.keras.preprocessing import image\n",
        "from tensorflow.keras.applications import ResNet50\n",
        "from tensorflow.keras.models import Sequential\n",
        "from tensorflow.keras.layers import Dense, Dropout, Flatten\n",
        "from tensorflow.keras.optimizers import SGD\n"
      ],
      "metadata": {
        "id": "873Gft6rQ0l0"
      },
      "execution_count": 9,
      "outputs": []
    },
    {
      "cell_type": "code",
      "source": [
        "class ImagesDataset_train(tf.keras.utils.Sequence):\n",
        "    \"\"\"Reads in an image, transforms pixel values, and serves\n",
        "    a dictionary containing the image id, image tensors, and label.\n",
        "    \"\"\"\n",
        "\n",
        "    def __init__(self, x_df, y_df=None, batch_size=16): # batch_size=16\n",
        "        self.x = x_df\n",
        "        self.y = y_df\n",
        "        self.batch_size = batch_size\n",
        "        self.indexes = self.x.index.values\n",
        "        self.num_samples = len(self.indexes)\n",
        "        self.transform = tf.keras.preprocessing.image.ImageDataGenerator( # 이 부분이 data augmentation\n",
        "            rescale=1./255,\n",
        "          rotation_range=10, #\n",
        "          width_shift_range=0.1,#\n",
        "          height_shift_range=0.1,#\n",
        "          shear_range=0.1,#\n",
        "          zoom_range=0.1,#\n",
        "          vertical_flip=True,#\n",
        "          fill_mode='nearest',#\n",
        "            samplewise_center=True,\n",
        "            samplewise_std_normalization=True\n",
        "        )\n",
        "\n",
        "    def __len__(self):\n",
        "        return int(self.num_samples / self.batch_size)\n",
        "\n",
        "    def __getitem__(self, idx):\n",
        "        batch_indexes = self.indexes[idx*self.batch_size: (idx+1)*self.batch_size]\n",
        "        batch_x = self.x.loc[batch_indexes].filepath.values\n",
        "        batch_images = []\n",
        "        for filepath in batch_x:\n",
        "            img = image.load_img(dpath+filepath, target_size=(380, 380))\n",
        "            img = image.img_to_array(img)\n",
        "            batch_images.append(img)\n",
        "        batch_images = self.transform.standardize(np.array(batch_images))\n",
        "        if self.y is not None:\n",
        "            batch_y = self.y.loc[batch_indexes].values\n",
        "            return batch_images, batch_y\n",
        "        else:\n",
        "            return batch_images\n"
      ],
      "metadata": {
        "id": "W8QErq4vQpXY"
      },
      "execution_count": 10,
      "outputs": []
    },
    {
      "cell_type": "code",
      "source": [
        "class ImagesDataset(tf.keras.utils.Sequence):\n",
        "    \"\"\"Reads in an image, transforms pixel values, and serves\n",
        "    a dictionary containing the image id, image tensors, and label.\n",
        "    \"\"\"\n",
        "\n",
        "    def __init__(self, x_df, y_df=None, batch_size=16): # batch_size=16\n",
        "        self.x = x_df\n",
        "        self.y = y_df\n",
        "        self.batch_size = batch_size\n",
        "        self.indexes = self.x.index.values\n",
        "        self.num_samples = len(self.indexes)\n",
        "        self.transform = tf.keras.preprocessing.image.ImageDataGenerator( \n",
        "            rescale=1./255,\n",
        "            samplewise_center=True,\n",
        "            samplewise_std_normalization=True\n",
        "        )\n",
        "\n",
        "    def __len__(self):\n",
        "        return int(self.num_samples / self.batch_size)\n",
        "\n",
        "    def __getitem__(self, idx):\n",
        "        batch_indexes = self.indexes[idx*self.batch_size: (idx+1)*self.batch_size]\n",
        "        batch_x = self.x.loc[batch_indexes].filepath.values\n",
        "        batch_images = []\n",
        "        for filepath in batch_x:\n",
        "            img = image.load_img(dpath+filepath, target_size=(380, 380))\n",
        "            img = image.img_to_array(img)\n",
        "            batch_images.append(img)\n",
        "        batch_images = self.transform.standardize(np.array(batch_images))\n",
        "        if self.y is not None:\n",
        "            batch_y = self.y.loc[batch_indexes].values\n",
        "            return batch_images, batch_y\n",
        "        else:\n",
        "            return batch_images\n"
      ],
      "metadata": {
        "id": "Z2iXWkQ6M2XE"
      },
      "execution_count": 11,
      "outputs": []
    },
    {
      "cell_type": "code",
      "source": [
        "train_dataset = ImagesDataset_train(x_train, y_train)\n",
        "eval_dataset = ImagesDataset(x_eval, y_eval)"
      ],
      "metadata": {
        "id": "Gd6s_Wd7RRUX"
      },
      "execution_count": 12,
      "outputs": []
    },
    {
      "cell_type": "markdown",
      "source": [
        "# efficientnetb4_fine_tuning_마지막 32개 층_batch normalization층 제외하고  동결 해제함 + 층 수정"
      ],
      "metadata": {
        "id": "fMVhJM7-8c8F"
      }
    },
    {
      "cell_type": "code",
      "source": [
        "from tensorflow.keras.models import Model\n",
        "from tensorflow.keras.layers import Input, Flatten, Dense, Dropout\n",
        "from tensorflow.keras.optimizers import SGD\n",
        "from tensorflow.keras.optimizers import RMSprop, Adam\n",
        "from tensorflow.keras.applications import ResNet50\n",
        "from efficientnet.tfkeras import EfficientNetB4, preprocess_input\n",
        "\n",
        "num_classes = 8\n",
        "# Define the input tensor\n",
        "input_tensor = Input(shape=(380, 380, 3)) # EfficientNetB4에는 일반적으로 380x380 크기의 입력 이미지가 필요함\n",
        "\n",
        "# Create the base model\n",
        "base_model = EfficientNetB4(include_top=False, weights='imagenet', pooling='max') \n"
      ],
      "metadata": {
        "id": "3W5lePrw8jyW",
        "colab": {
          "base_uri": "https://localhost:8080/"
        },
        "outputId": "a4de28ac-db91-4519-f7f2-9799906b5396"
      },
      "execution_count": 13,
      "outputs": [
        {
          "output_type": "stream",
          "name": "stdout",
          "text": [
            "Downloading data from https://github.com/Callidior/keras-applications/releases/download/efficientnet/efficientnet-b4_weights_tf_dim_ordering_tf_kernels_autoaugment_notop.h5\n",
            "71892840/71892840 [==============================] - 1s 0us/step\n"
          ]
        }
      ]
    },
    {
      "cell_type": "code",
      "source": [
        "# Freeze the convolutional base layers\n",
        "base_model.trainable = True\n",
        "for layer in base_model.layers[:-32]: # 마지막 7 블록 + Top 블록 > 가중치 동결 해제 (fine_tuning)\n",
        "  layer.trainable = False\n"
      ],
      "metadata": {
        "id": "XafVLl5p9Z0W"
      },
      "execution_count": 14,
      "outputs": []
    },
    {
      "cell_type": "markdown",
      "source": [
        "## batch normalization 층은 동결!!!"
      ],
      "metadata": {
        "id": "Od-vTJms_UmX"
      }
    },
    {
      "cell_type": "code",
      "source": [
        "for layer in base_model.layers:\n",
        "    if 'BatchNormalization' in layer.__class__.__name__:\n",
        "        layer.trainable = False"
      ],
      "metadata": {
        "id": "b9G-Ij9Z-lva"
      },
      "execution_count": 15,
      "outputs": []
    },
    {
      "cell_type": "code",
      "source": [
        "# Pass the input tensor through the base model\n",
        "base_output = base_model(input_tensor)\n",
        "\n",
        "# x = layers.GlobalAveragePooling2D()(base_output)\n",
        "# dense_layer = layers.Dense(128)(x)\n",
        "\n",
        "# Flatten the output from the base model\n",
        "flatten_layer = Flatten()(base_output)\n",
        "\n",
        "# Add a dense layer with 256 units and ReLU activation\n",
        "dense_layer = Dense(512)(flatten_layer)\n",
        "dense_layer = Dense(256)(dense_layer)\n",
        "\n",
        "# Add a dropout layer with dropout rate of 0.5\n",
        "dropout_layer = Dropout(0.5)(dense_layer)\n",
        "\n",
        "# Add the final output layer with softmax activation\n",
        "output_layer = Dense(num_classes, activation='softmax')(dropout_layer)\n",
        "\n",
        "# Create the model\n",
        "model = Model(inputs=input_tensor, outputs=output_layer)\n",
        "\n",
        "# Compile the model\n",
        "optimizer = Adam(learning_rate=0.001) # 다른 옵션 > optimizer = RMSprop(learning_rate=0.001) / SGD(learning_rate=0.0001, momentum=0.9) / optimizer = Adam(learning_rate=0.001)\n",
        "model.compile(loss='categorical_crossentropy', optimizer=optimizer, metrics=['accuracy'])\n"
      ],
      "metadata": {
        "id": "j8dCWFu39ZuE"
      },
      "execution_count": 16,
      "outputs": []
    },
    {
      "cell_type": "code",
      "source": [
        "from tensorflow import keras\n",
        "callbacks_list = [\n",
        "    keras.callbacks.EarlyStopping(\n",
        "        monitor=\"val_loss\",\n",
        "        patience=4,\n",
        "    ),\n",
        "    keras.callbacks.ModelCheckpoint(\n",
        "        filepath=\"checkpoint_path.keras\",\n",
        "        monitor=\"val_loss\",\n",
        "        save_best_only=True,\n",
        "    )\n",
        "]\\\n",
        "\n",
        "\n",
        "num_epochs = 100\n",
        "\n",
        "history = model.fit(train_dataset, epochs=num_epochs, \n",
        "                    callbacks=callbacks_list,\n",
        "                    validation_data=eval_dataset)\n",
        "  "
      ],
      "metadata": {
        "colab": {
          "base_uri": "https://localhost:8080/"
        },
        "id": "LxAHuVpQ9ZoS",
        "outputId": "c2f9ad95-1a7d-4fc4-c5e4-46c5b8693bc8"
      },
      "execution_count": 17,
      "outputs": [
        {
          "output_type": "stream",
          "name": "stdout",
          "text": [
            "Epoch 1/100\n",
            "386/386 [==============================] - 1997s 5s/step - loss: 62.7205 - accuracy: 0.1465 - val_loss: 2.1179 - val_accuracy: 0.1187\n",
            "Epoch 2/100\n",
            "386/386 [==============================] - 122s 314ms/step - loss: 2.1754 - accuracy: 0.1465 - val_loss: 2.0844 - val_accuracy: 0.1499\n",
            "Epoch 3/100\n",
            "386/386 [==============================] - 120s 311ms/step - loss: 2.1494 - accuracy: 0.1462 - val_loss: 2.0878 - val_accuracy: 0.1450\n",
            "Epoch 4/100\n",
            "386/386 [==============================] - 121s 313ms/step - loss: 2.1437 - accuracy: 0.1376 - val_loss: 2.2201 - val_accuracy: 0.1450\n",
            "Epoch 5/100\n",
            "386/386 [==============================] - 122s 317ms/step - loss: 2.1806 - accuracy: 0.1365 - val_loss: 2.0599 - val_accuracy: 0.1450\n",
            "Epoch 6/100\n",
            "386/386 [==============================] - 135s 350ms/step - loss: 2.1352 - accuracy: 0.1397 - val_loss: 2.0632 - val_accuracy: 0.1343\n",
            "Epoch 7/100\n",
            "386/386 [==============================] - 121s 313ms/step - loss: 2.1256 - accuracy: 0.1467 - val_loss: 2.1557 - val_accuracy: 0.1499\n",
            "Epoch 8/100\n",
            "386/386 [==============================] - 121s 312ms/step - loss: 2.1286 - accuracy: 0.1426 - val_loss: 2.0814 - val_accuracy: 0.1392\n",
            "Epoch 9/100\n",
            "386/386 [==============================] - 121s 312ms/step - loss: 2.1045 - accuracy: 0.1550 - val_loss: 2.0657 - val_accuracy: 0.1582\n"
          ]
        }
      ]
    },
    {
      "cell_type": "code",
      "source": [
        "# 콜백에 저장된 best 모델을 불러오는 것\n",
        "best_model = keras.models.load_model(\"checkpoint_path.keras\")\n",
        "\n",
        "mpath = \"/content/drive/MyDrive/CAU_BURGER/model/\""
      ],
      "metadata": {
        "id": "rKo9MMt49ZkN"
      },
      "execution_count": 18,
      "outputs": []
    },
    {
      "cell_type": "code",
      "source": [
        "# 모델을 지정된 경로에 저장하는 것\n",
        "best_model.save(mpath+'EfficientNetB4_haram_3.h5')"
      ],
      "metadata": {
        "id": "ZmJWTdcW9ZhQ"
      },
      "execution_count": 19,
      "outputs": []
    },
    {
      "cell_type": "code",
      "source": [
        "#  저장된 모델을 model_best 객체에 불러오는 것!!!!\n",
        "from tensorflow import keras\n",
        "model_best = keras.models.load_model(mpath+\"EfficientNetB4_haram_3.h5\")\n",
        "\n",
        "model_best.summary()"
      ],
      "metadata": {
        "id": "BowqRa0M9ZdI",
        "colab": {
          "base_uri": "https://localhost:8080/"
        },
        "outputId": "4deaf3dd-c532-49f0-f824-870a07208764"
      },
      "execution_count": 20,
      "outputs": [
        {
          "output_type": "stream",
          "name": "stdout",
          "text": [
            "Model: \"model\"\n",
            "_________________________________________________________________\n",
            " Layer (type)                Output Shape              Param #   \n",
            "=================================================================\n",
            " input_1 (InputLayer)        [(None, 380, 380, 3)]     0         \n",
            "                                                                 \n",
            " efficientnet-b4 (Functional  (None, 1792)             17673816  \n",
            " )                                                               \n",
            "                                                                 \n",
            " flatten (Flatten)           (None, 1792)              0         \n",
            "                                                                 \n",
            " dense (Dense)               (None, 512)               918016    \n",
            "                                                                 \n",
            " dense_1 (Dense)             (None, 256)               131328    \n",
            "                                                                 \n",
            " dropout (Dropout)           (None, 256)               0         \n",
            "                                                                 \n",
            " dense_2 (Dense)             (None, 8)                 2056      \n",
            "                                                                 \n",
            "=================================================================\n",
            "Total params: 18,725,216\n",
            "Trainable params: 6,305,148\n",
            "Non-trainable params: 12,420,068\n",
            "_________________________________________________________________\n"
          ]
        }
      ]
    },
    {
      "cell_type": "code",
      "source": [
        "# 여기서부터 제출 양식 만들기\n",
        "x_test = test_features.filepath.to_frame()\n",
        "test_dataset = ImagesDataset(x_test)\n",
        "\n",
        "test_preds = model_best.predict(test_dataset)"
      ],
      "metadata": {
        "id": "ZsU4d5P09Zad",
        "colab": {
          "base_uri": "https://localhost:8080/"
        },
        "outputId": "98eb2586-a03f-4be1-e4a4-098d4974f4ee"
      },
      "execution_count": null,
      "outputs": [
        {
          "output_type": "stream",
          "name": "stdout",
          "text": [
            " 40/279 [===>..........................] - ETA: 15:10"
          ]
        }
      ]
    },
    {
      "cell_type": "code",
      "source": [
        "submission_df = pd.DataFrame(test_preds, index=x_test.index[:test_preds.shape[0]], columns=train_labels.columns)\n",
        "\n",
        "submission_df"
      ],
      "metadata": {
        "id": "zrjUAQ3D9ZWJ"
      },
      "execution_count": null,
      "outputs": []
    },
    {
      "cell_type": "code",
      "source": [
        "submission_format = pd.read_csv(dpath+\"submission_format.csv\", index_col=\"id\")\n",
        "\n",
        "assert all(submission_df.index == submission_format.index)\n",
        "assert all(submission_df.columns == submission_format.columns) "
      ],
      "metadata": {
        "id": "u2vZzpPb9ZTt"
      },
      "execution_count": null,
      "outputs": []
    },
    {
      "cell_type": "code",
      "source": [
        "submission_df.to_csv(\"/content/drive/MyDrive/CAU_BURGER/submission/EfficientNetB4_haram_3.csv\")"
      ],
      "metadata": {
        "id": "soku5X9t9ZPG"
      },
      "execution_count": null,
      "outputs": []
    }
  ],
  "metadata": {
    "anaconda-cloud": {},
    "kernelspec": {
      "display_name": "Python 3 (ipykernel)",
      "language": "python",
      "name": "python3"
    },
    "language_info": {
      "codemirror_mode": {
        "name": "ipython",
        "version": 3
      },
      "file_extension": ".py",
      "mimetype": "text/x-python",
      "name": "python",
      "nbconvert_exporter": "python",
      "pygments_lexer": "ipython3",
      "version": "3.8.12"
    },
    "colab": {
      "provenance": [],
      "gpuType": "T4",
      "include_colab_link": true
    },
    "accelerator": "GPU",
    "gpuClass": "standard"
  },
  "nbformat": 4,
  "nbformat_minor": 0
}