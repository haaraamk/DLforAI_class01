{
  "cells": [
    {
      "cell_type": "markdown",
      "metadata": {
        "id": "view-in-github",
        "colab_type": "text"
      },
      "source": [
        "<a href=\"https://colab.research.google.com/github/haaraamk/DLforAI_class01/blob/main/chapter05_fundamentals_of_ml_practice.ipynb\" target=\"_parent\"><img src=\"https://colab.research.google.com/assets/colab-badge.svg\" alt=\"Open In Colab\"/></a>"
      ]
    },
    {
      "cell_type": "markdown",
      "metadata": {
        "id": "jA973q80LfE3"
      },
      "source": [
        "This is a companion notebook for the book [Deep Learning with Python, Second Edition](https://www.manning.com/books/deep-learning-with-python-second-edition?a_aid=keras&a_bid=76564dff). For readability, it only contains runnable code blocks and section titles, and omits everything else in the book: text paragraphs, figures, and pseudocode.\n",
        "\n",
        "**If you want to be able to follow what's going on, I recommend reading the notebook side by side with your copy of the book.**\n",
        "\n",
        "This notebook was generated for TensorFlow 2.6."
      ]
    },
    {
      "cell_type": "markdown",
      "metadata": {
        "id": "7ZixSZKaLfE5"
      },
      "source": [
        "# Fundamentals of machine learning"
      ]
    },
    {
      "cell_type": "markdown",
      "metadata": {
        "id": "CQa-n-d3LfE5"
      },
      "source": [
        "## Generalization: The goal of machine learning"
      ]
    },
    {
      "cell_type": "markdown",
      "metadata": {
        "id": "OWIXNpnoLfE5"
      },
      "source": [
        "### Underfitting and overfitting"
      ]
    },
    {
      "cell_type": "markdown",
      "metadata": {
        "id": "7YMTlNWwLfE5"
      },
      "source": [
        "#### Noisy training data"
      ]
    },
    {
      "cell_type": "markdown",
      "metadata": {
        "id": "9R5wmwFvLfE6"
      },
      "source": [
        "#### Ambiguous features"
      ]
    },
    {
      "cell_type": "markdown",
      "metadata": {
        "id": "l0CkHhiwLfE6"
      },
      "source": [
        "#### Rare features and spurious correlations"
      ]
    },
    {
      "cell_type": "markdown",
      "metadata": {
        "id": "L2mEvTroLfE6"
      },
      "source": [
        "**Adding white-noise channels or all-zeros channels to MNIST**"
      ]
    },
    {
      "cell_type": "code",
      "execution_count": null,
      "metadata": {
        "id": "ICc0xXbxLfE6"
      },
      "outputs": [],
      "source": [
        "# TensorFlow Keras에서 MNIST 데이터셋을 불러옵니다.\n",
        "from tensorflow.keras.datasets import mnist\n",
        "import numpy as np\n",
        "\n",
        "# train_images와 train_labels은 훈련에 사용할 이미지와 레이블 데이터입니다.\n",
        "# 테스트 데이터는 사용하지 않으므로 버립니다.\n",
        "(train_images, train_labels), _ = mnist.load_data()\n",
        "\n",
        "# 훈련 이미지를 28x28 크기에서 784 크기의 1차원 배열로 변환합니다.\n",
        "train_images = train_images.reshape((60000, 28 * 28))\n",
        "\n",
        "# 훈련 이미지의 픽셀 값을 0과 1 사이의 값으로 정규화합니다.\n",
        "train_images = train_images.astype(\"float32\") / 255\n",
        "\n",
        "# train_images에 임의의 노이즈를 추가하는 작업입니다.\n",
        "# np.random.random 함수를 사용하여 0과 1 사이의 값을 가진 임의의 노이즈를 생성합니다.\n",
        "# 생성한 노이즈 배열과 원래 이미지 배열을 concatenate 함수를 사용하여 열 축을 따라 합칩니다.\n",
        "train_images_with_noise_channels = np.concatenate(\n",
        "    [train_images, np.random.random((len(train_images), 784))], axis=1)\n",
        "\n",
        "# train_images에 0 값을 추가하는 작업입니다.\n",
        "# np.zeros 함수를 사용하여 0으로 채워진 배열을 생성합니다.\n",
        "# 생성한 0 값 배열과 원래 이미지 배열을 concatenate 함수를 사용하여 열 축을 따라 합칩니다.\n",
        "train_images_with_zeros_channels = np.concatenate(\n",
        "    [train_images, np.zeros((len(train_images), 784))], axis=1)\n"
      ]
    },
    {
      "cell_type": "markdown",
      "metadata": {
        "id": "SHg0zX7uLfE7"
      },
      "source": [
        "**Training the same model on MNIST data with noise channels or all-zero channels**"
      ]
    },
    {
      "cell_type": "code",
      "execution_count": null,
      "metadata": {
        "id": "Rlnm1zr8LfE7",
        "outputId": "4099cf90-4be2-4010-805b-476e2a9656c9",
        "colab": {
          "base_uri": "https://localhost:8080/"
        }
      },
      "outputs": [
        {
          "output_type": "stream",
          "name": "stdout",
          "text": [
            "Epoch 1/10\n",
            "375/375 [==============================] - 6s 4ms/step - loss: 0.6166 - accuracy: 0.8110 - val_loss: 0.3078 - val_accuracy: 0.9037\n",
            "Epoch 2/10\n",
            "375/375 [==============================] - 1s 3ms/step - loss: 0.2513 - accuracy: 0.9230 - val_loss: 0.1858 - val_accuracy: 0.9453\n",
            "Epoch 3/10\n",
            "375/375 [==============================] - 1s 3ms/step - loss: 0.1647 - accuracy: 0.9493 - val_loss: 0.1639 - val_accuracy: 0.9526\n",
            "Epoch 4/10\n",
            "375/375 [==============================] - 1s 3ms/step - loss: 0.1167 - accuracy: 0.9642 - val_loss: 0.1611 - val_accuracy: 0.9507\n",
            "Epoch 5/10\n",
            "375/375 [==============================] - 2s 4ms/step - loss: 0.0846 - accuracy: 0.9734 - val_loss: 0.1296 - val_accuracy: 0.9617\n",
            "Epoch 6/10\n",
            "375/375 [==============================] - 1s 3ms/step - loss: 0.0620 - accuracy: 0.9796 - val_loss: 0.1293 - val_accuracy: 0.9613\n",
            "Epoch 7/10\n",
            "375/375 [==============================] - 1s 3ms/step - loss: 0.0464 - accuracy: 0.9851 - val_loss: 0.1170 - val_accuracy: 0.9661\n",
            "Epoch 8/10\n",
            "375/375 [==============================] - 3s 8ms/step - loss: 0.0342 - accuracy: 0.9895 - val_loss: 0.1283 - val_accuracy: 0.9632\n",
            "Epoch 9/10\n",
            "375/375 [==============================] - 2s 4ms/step - loss: 0.0219 - accuracy: 0.9939 - val_loss: 0.1627 - val_accuracy: 0.9597\n",
            "Epoch 10/10\n",
            "375/375 [==============================] - 1s 3ms/step - loss: 0.0160 - accuracy: 0.9952 - val_loss: 0.1615 - val_accuracy: 0.9614\n",
            "Epoch 1/10\n",
            "375/375 [==============================] - 3s 5ms/step - loss: 0.2962 - accuracy: 0.9135 - val_loss: 0.1531 - val_accuracy: 0.9570\n",
            "Epoch 2/10\n",
            "375/375 [==============================] - 1s 3ms/step - loss: 0.1249 - accuracy: 0.9628 - val_loss: 0.1026 - val_accuracy: 0.9690\n",
            "Epoch 3/10\n",
            "375/375 [==============================] - 1s 3ms/step - loss: 0.0812 - accuracy: 0.9766 - val_loss: 0.0956 - val_accuracy: 0.9724\n",
            "Epoch 4/10\n",
            "375/375 [==============================] - 1s 3ms/step - loss: 0.0586 - accuracy: 0.9832 - val_loss: 0.0864 - val_accuracy: 0.9732\n",
            "Epoch 5/10\n",
            "375/375 [==============================] - 1s 3ms/step - loss: 0.0434 - accuracy: 0.9872 - val_loss: 0.0838 - val_accuracy: 0.9728\n",
            "Epoch 6/10\n",
            "375/375 [==============================] - 1s 3ms/step - loss: 0.0331 - accuracy: 0.9902 - val_loss: 0.0778 - val_accuracy: 0.9785\n",
            "Epoch 7/10\n",
            "375/375 [==============================] - 1s 3ms/step - loss: 0.0250 - accuracy: 0.9929 - val_loss: 0.0743 - val_accuracy: 0.9768\n",
            "Epoch 8/10\n",
            "375/375 [==============================] - 1s 3ms/step - loss: 0.0188 - accuracy: 0.9951 - val_loss: 0.0838 - val_accuracy: 0.9772\n",
            "Epoch 9/10\n",
            "375/375 [==============================] - 1s 3ms/step - loss: 0.0143 - accuracy: 0.9966 - val_loss: 0.0751 - val_accuracy: 0.9795\n",
            "Epoch 10/10\n",
            "375/375 [==============================] - 2s 4ms/step - loss: 0.0106 - accuracy: 0.9973 - val_loss: 0.0782 - val_accuracy: 0.9778\n"
          ]
        }
      ],
      "source": [
        "from tensorflow import keras\n",
        "from tensorflow.keras import layers\n",
        "\n",
        "def get_model():\n",
        "    model = keras.Sequential([\n",
        "        layers.Dense(512, activation=\"relu\"),\n",
        "        layers.Dense(10, activation=\"softmax\")\n",
        "    ])\n",
        "    model.compile(optimizer=\"rmsprop\",\n",
        "                  loss=\"sparse_categorical_crossentropy\",\n",
        "                  metrics=[\"accuracy\"])\n",
        "    return model\n",
        "\n",
        "model = get_model()\n",
        "history_noise = model.fit(\n",
        "    train_images_with_noise_channels, train_labels,\n",
        "    epochs=10,\n",
        "    batch_size=128,\n",
        "    validation_split=0.2)\n",
        "\n",
        "model = get_model()\n",
        "history_zeros = model.fit(\n",
        "    train_images_with_zeros_channels, train_labels,\n",
        "    epochs=10,\n",
        "    batch_size=128,\n",
        "    validation_split=0.2)"
      ]
    },
    {
      "cell_type": "code",
      "source": [
        "# TensorFlow와 TensorFlow Keras에서 layers 모듈을 가져옵니다.\n",
        "from tensorflow import keras\n",
        "from tensorflow.keras import layers\n",
        "\n",
        "# 모델 아키텍처를 정의하는 함수입니다.\n",
        "# Sequential 모델을 사용하여 layers.Dense로 이루어진 MLP(Multi-Layer Perceptron) 모델을 정의합니다.\n",
        "# 입력 레이어의 노드 수는 784개이며, 출력 레이어의 노드 수는 10개입니다.\n",
        "# 활성화 함수로는 ReLU를 사용합니다.\n",
        "# 모델의 optimizer는 rmsprop을 사용하고, loss function은 sparse_categorical_crossentropy를 사용합니다.\n",
        "# 모델의 평가 지표는 accuracy로 설정합니다.\n",
        "def get_model():\n",
        "    model = keras.Sequential([\n",
        "        layers.Dense(512, activation=\"relu\"),\n",
        "        layers.Dense(10, activation=\"softmax\")\n",
        "    ])\n",
        "    model.compile(optimizer=\"rmsprop\",\n",
        "                  loss=\"sparse_categorical_crossentropy\",\n",
        "                  metrics=[\"accuracy\"])\n",
        "    return model\n",
        "\n",
        "# get_model 함수를 사용하여 모델을 생성합니다.\n",
        "# train_images_with_noise_channels로 모델을 훈련합니다.\n",
        "# epoch 횟수는 10회, 배치 크기는 128로 설정하고, 훈련 데이터 중 20%를 검증 데이터로 사용합니다.\n",
        "history_noise = model.fit(\n",
        "    train_images_with_noise_channels, train_labels,\n",
        "    epochs=10,\n",
        "    batch_size=128,\n",
        "    validation_split=0.2)\n",
        "\n",
        "# get_model 함수를 사용하여 모델을 생성합니다.\n",
        "# train_images_with_zeros_channels로 모델을 훈련합니다.\n",
        "# epoch 횟수는 10회, 배치 크기는 128로 설정하고, 훈련 데이터 중 20%를 검증 데이터로 사용합니다.\n",
        "history_zeros = model.fit(\n",
        "    train_images_with_zeros_channels, train_labels,\n",
        "    epochs=10,\n",
        "    batch_size=128,\n",
        "    validation_split=0.2)\n"
      ],
      "metadata": {
        "id": "qixxVR3oZkPU"
      },
      "execution_count": null,
      "outputs": []
    },
    {
      "cell_type": "markdown",
      "metadata": {
        "id": "TO-7hh29LfE7"
      },
      "source": [
        "**Plotting a validation accuracy comparison**\n",
        "\n",
        "유효성 검사 정확도 비교 표시"
      ]
    },
    {
      "cell_type": "code",
      "execution_count": null,
      "metadata": {
        "id": "4mMyoggILfE7",
        "outputId": "fc4677c0-9242-4f4f-f732-64a994fcf177",
        "colab": {
          "base_uri": "https://localhost:8080/",
          "height": 490
        }
      },
      "outputs": [
        {
          "output_type": "execute_result",
          "data": {
            "text/plain": [
              "<matplotlib.legend.Legend at 0x7f95f0682ac0>"
            ]
          },
          "metadata": {},
          "execution_count": 5
        },
        {
          "output_type": "display_data",
          "data": {
            "text/plain": [
              "<Figure size 640x480 with 1 Axes>"
            ],
            "image/png": "[encoded data removed]"
          },
          "metadata": {}
        }
      ],
      "source": [
        "import matplotlib.pyplot as plt\n",
        "val_acc_noise = history_noise.history[\"val_accuracy\"]\n",
        "val_acc_zeros = history_zeros.history[\"val_accuracy\"]\n",
        "epochs = range(1, 11)\n",
        "plt.plot(epochs, val_acc_noise, \"b-\",\n",
        "         label=\"Validation accuracy with noise channels\")\n",
        "plt.plot(epochs, val_acc_zeros, \"b--\",\n",
        "         label=\"Validation accuracy with zeros channels\")\n",
        "plt.title(\"Effect of noise channels on validation accuracy\")\n",
        "plt.xlabel(\"Epochs\")\n",
        "plt.ylabel(\"Accuracy\")\n",
        "plt.legend()"
      ]
    },
    {
      "cell_type": "code",
      "source": [
        "# Matplotlib을 사용하여 그래프를 그립니다.\n",
        "# 첫 번째 그래프는 train_images_with_noise_channels 데이터를 사용하여 학습한 모델의 검증 정확도(validation accuracy)를 나타냅니다.\n",
        "# 두 번째 그래프는 train_images_with_zeros_channels 데이터를 사용하여 학습한 모델의 검증 정확도를 나타냅니다.\n",
        "# epochs은 1부터 10까지의 정수 리스트입니다.\n",
        "# 첫 번째 그래프는 파란색 실선으로, \"Validation accuracy with noise channels\" 라벨을 붙여서 나타냅니다.\n",
        "# 두 번째 그래프는 파란색 점선으로, \"Validation accuracy with zeros channels\" 라벨을 붙여서 나타냅니다.\n",
        "# 그래프의 제목은 \"Effect of noise channels on validation accuracy\"로 설정하고, x축은 \"Epochs\"로, y축은 \"Accuracy\"로 라벨링합니다.\n",
        "# 두 그래프에 대한 범례(legend)를 표시합니다."
      ],
      "metadata": {
        "id": "FZWdTBxcmLIw"
      },
      "execution_count": null,
      "outputs": []
    },
    {
      "cell_type": "markdown",
      "metadata": {
        "id": "aiST5OzmLfE8"
      },
      "source": [
        "### The nature of generalization in deep learning"
      ]
    },
    {
      "cell_type": "markdown",
      "metadata": {
        "id": "B75vEm3xLfE8"
      },
      "source": [
        "**Fitting a MNIST model with randomly shuffled labels**"
      ]
    },
    {
      "cell_type": "code",
      "execution_count": null,
      "metadata": {
        "id": "edrBRMTqLfE8"
      },
      "outputs": [],
      "source": [
        "(train_images, train_labels), _ = mnist.load_data()\n",
        "train_images = train_images.reshape((60000, 28 * 28))\n",
        "train_images = train_images.astype(\"float32\") / 255\n",
        "\n",
        "random_train_labels = train_labels[:]\n",
        "np.random.shuffle(random_train_labels)\n",
        "\n",
        "model = keras.Sequential([\n",
        "    layers.Dense(512, activation=\"relu\"),\n",
        "    layers.Dense(10, activation=\"softmax\")\n",
        "])\n",
        "model.compile(optimizer=\"rmsprop\",\n",
        "              loss=\"sparse_categorical_crossentropy\",\n",
        "              metrics=[\"accuracy\"])\n",
        "model.fit(train_images, random_train_labels,\n",
        "          epochs=100,\n",
        "          batch_size=128,\n",
        "          validation_split=0.2)\n",
        "\n",
        "# MNIST 데이터셋을 로드하고, train_images와 train_labels로 나눕니다.\n",
        "# train_images를 28x28 크기의 60,000개의 이미지 배열로 변환합니다.\n",
        "# 이후, train_images를 255로 나누어 0에서 1사이의 값으로 스케일링합니다.\n",
        "# random_train_labels은 train_labels를 복사하여 만든 배열로, train_labels의 값을 랜덤하게 섞은 것입니다.\n",
        "# Dense 레이어를 2개로 쌓아 신경망을 만듭니다. 두 레이어는 각각 512와 10개의 노드를 가집니다.\n",
        "# 마지막 레이어는 10개의 노드를 가지며, softmax 활성화 함수를 사용합니다.\n",
        "# 모델을 컴파일합니다. 오차 함수는 sparse_categorical_crossentropy, 옵티마이저는 rmsprop을 사용하며, 평가 지표는 accuracy입니다.\n",
        "# train_images와 random_train_labels를 사용하여 모델을 학습합니다.\n",
        "# 100 에포크를 수행하며, 배치 크기는 128로 지정하고, 학습 데이터의 20%를 검증 데이터로 사용합니다."
      ]
    },
    {
      "cell_type": "code",
      "source": [],
      "metadata": {
        "id": "_y2wlsJY6iWy"
      },
      "execution_count": null,
      "outputs": []
    },
    {
      "cell_type": "markdown",
      "metadata": {
        "id": "w7eIubz_LfE8"
      },
      "source": [
        "#### The manifold hypothesis"
      ]
    },
    {
      "cell_type": "markdown",
      "metadata": {
        "id": "XqqSiTmZLfE8"
      },
      "source": [
        "#### Interpolation as a source of generalization"
      ]
    },
    {
      "cell_type": "markdown",
      "metadata": {
        "id": "_GgbJWzcLfE9"
      },
      "source": [
        "#### Why deep learning works"
      ]
    },
    {
      "cell_type": "markdown",
      "metadata": {
        "id": "i9-4BiazLfE9"
      },
      "source": [
        "#### Training data is paramount"
      ]
    },
    {
      "cell_type": "markdown",
      "metadata": {
        "id": "D0tNuFZTLfE9"
      },
      "source": [
        "## Evaluating machine-learning models"
      ]
    },
    {
      "cell_type": "markdown",
      "metadata": {
        "id": "MPPuQepDLfE9"
      },
      "source": [
        "### Training, validation, and test sets"
      ]
    },
    {
      "cell_type": "markdown",
      "metadata": {
        "id": "-uMOqbtYLfE9"
      },
      "source": [
        "#### Simple hold-out validation"
      ]
    },
    {
      "cell_type": "markdown",
      "metadata": {
        "id": "01BsLCnuLfE9"
      },
      "source": [
        "#### K-fold validation"
      ]
    },
    {
      "cell_type": "markdown",
      "metadata": {
        "id": "LPzsbjD8LfE9"
      },
      "source": [
        "#### Iterated K-fold validation with shuffling"
      ]
    },
    {
      "cell_type": "markdown",
      "metadata": {
        "id": "xdMNJsdoLfE-"
      },
      "source": [
        "### Beating a common-sense baseline"
      ]
    },
    {
      "cell_type": "markdown",
      "metadata": {
        "id": "KhYqNVwFLfE-"
      },
      "source": [
        "### Things to keep in mind about model evaluation"
      ]
    },
    {
      "cell_type": "markdown",
      "metadata": {
        "id": "1zCKyi4VLfE-"
      },
      "source": [
        "## Improving model fit"
      ]
    },
    {
      "cell_type": "markdown",
      "metadata": {
        "id": "Wm49-Jv1LfE-"
      },
      "source": [
        "### Tuning key gradient descent parameters"
      ]
    },
    {
      "cell_type": "markdown",
      "metadata": {
        "id": "OKhTQDZMLfE-"
      },
      "source": [
        "**Training a MNIST model with an incorrectly high learning rate**"
      ]
    },
    {
      "cell_type": "code",
      "execution_count": null,
      "metadata": {
        "id": "r8g54tgQLfE-"
      },
      "outputs": [],
      "source": [
        "(train_images, train_labels), _ = mnist.load_data()\n",
        "train_images = train_images.reshape((60000, 28 * 28))\n",
        "train_images = train_images.astype(\"float32\") / 255\n",
        "\n",
        "model = keras.Sequential([\n",
        "    layers.Dense(512, activation=\"relu\"),\n",
        "    layers.Dense(10, activation=\"softmax\")\n",
        "])\n",
        "model.compile(optimizer=keras.optimizers.RMSprop(1.),\n",
        "              loss=\"sparse_categorical_crossentropy\",\n",
        "              metrics=[\"accuracy\"])\n",
        "model.fit(train_images, train_labels,\n",
        "          epochs=10,\n",
        "          batch_size=128,\n",
        "          validation_split=0.2)"
      ]
    },
    {
      "cell_type": "markdown",
      "metadata": {
        "id": "V7ce5i3KLfE-"
      },
      "source": [
        "**The same model with a more appropriate learning rate**"
      ]
    },
    {
      "cell_type": "code",
      "execution_count": null,
      "metadata": {
        "id": "ASQwvowvLfE-"
      },
      "outputs": [],
      "source": [
        "model = keras.Sequential([\n",
        "    layers.Dense(512, activation=\"relu\"),\n",
        "    layers.Dense(10, activation=\"softmax\")\n",
        "])\n",
        "model.compile(optimizer=keras.optimizers.RMSprop(1e-2),\n",
        "              loss=\"sparse_categorical_crossentropy\",\n",
        "              metrics=[\"accuracy\"])\n",
        "model.fit(train_images, train_labels,\n",
        "          epochs=10,\n",
        "          batch_size=128,\n",
        "          validation_split=0.2)"
      ]
    },
    {
      "cell_type": "markdown",
      "metadata": {
        "id": "luaQBxAiLfE_"
      },
      "source": [
        "### Leveraging better architecture priors"
      ]
    },
    {
      "cell_type": "markdown",
      "metadata": {
        "id": "h3EZXyO-LfE_"
      },
      "source": [
        "### Increasing model capacity"
      ]
    },
    {
      "cell_type": "markdown",
      "metadata": {
        "id": "1AMj7UdGLfE_"
      },
      "source": [
        "**A simple logistic regression on MNIST**"
      ]
    },
    {
      "cell_type": "code",
      "execution_count": null,
      "metadata": {
        "id": "aGGt9z90LfE_"
      },
      "outputs": [],
      "source": [
        "model = keras.Sequential([layers.Dense(10, activation=\"softmax\")])\n",
        "model.compile(optimizer=\"rmsprop\",\n",
        "              loss=\"sparse_categorical_crossentropy\",\n",
        "              metrics=[\"accuracy\"])\n",
        "history_small_model = model.fit(\n",
        "    train_images, train_labels,\n",
        "    epochs=20,\n",
        "    batch_size=128,\n",
        "    validation_split=0.2)"
      ]
    },
    {
      "cell_type": "code",
      "execution_count": null,
      "metadata": {
        "id": "WPTfYrXKLfE_"
      },
      "outputs": [],
      "source": [
        "import matplotlib.pyplot as plt\n",
        "val_loss = history_small_model.history[\"val_loss\"]\n",
        "epochs = range(1, 21)\n",
        "plt.plot(epochs, val_loss, \"b--\",\n",
        "         label=\"Validation loss\")\n",
        "plt.title(\"Effect of insufficient model capacity on validation loss\")\n",
        "plt.xlabel(\"Epochs\")\n",
        "plt.ylabel(\"Loss\")\n",
        "plt.legend()"
      ]
    },
    {
      "cell_type": "code",
      "execution_count": null,
      "metadata": {
        "id": "b5_0pahPLfE_"
      },
      "outputs": [],
      "source": [
        "model = keras.Sequential([\n",
        "    layers.Dense(96, activation=\"relu\"),\n",
        "    layers.Dense(96, activation=\"relu\"),\n",
        "    layers.Dense(10, activation=\"softmax\"),\n",
        "])\n",
        "model.compile(optimizer=\"rmsprop\",\n",
        "              loss=\"sparse_categorical_crossentropy\",\n",
        "              metrics=[\"accuracy\"])\n",
        "history_large_model = model.fit(\n",
        "    train_images, train_labels,\n",
        "    epochs=20,\n",
        "    batch_size=128,\n",
        "    validation_split=0.2)"
      ]
    },
    {
      "cell_type": "markdown",
      "metadata": {
        "id": "4-vGknVwLfE_"
      },
      "source": [
        "## Improving generalization"
      ]
    },
    {
      "cell_type": "markdown",
      "metadata": {
        "id": "_0ov3uRILfFA"
      },
      "source": [
        "### Dataset curation"
      ]
    },
    {
      "cell_type": "markdown",
      "metadata": {
        "id": "v_3cFfwKLfFA"
      },
      "source": [
        "### Feature engineering"
      ]
    },
    {
      "cell_type": "markdown",
      "metadata": {
        "id": "t4wQcs3fLfFA"
      },
      "source": [
        "### Using early stopping"
      ]
    },
    {
      "cell_type": "markdown",
      "metadata": {
        "id": "bmfw3RcDLfFA"
      },
      "source": [
        "### Regularizing your model"
      ]
    },
    {
      "cell_type": "markdown",
      "metadata": {
        "id": "ohbplE56LfFA"
      },
      "source": [
        "#### Reducing the network's size"
      ]
    },
    {
      "cell_type": "markdown",
      "metadata": {
        "id": "rm-dK6pFLfFA"
      },
      "source": [
        "**Original model**"
      ]
    },
    {
      "cell_type": "code",
      "execution_count": null,
      "metadata": {
        "id": "AcC23xx1LfFA"
      },
      "outputs": [],
      "source": [
        "from tensorflow.keras.datasets import imdb\n",
        "(train_data, train_labels), _ = imdb.load_data(num_words=10000)\n",
        "\n",
        "def vectorize_sequences(sequences, dimension=10000):\n",
        "    results = np.zeros((len(sequences), dimension))\n",
        "    for i, sequence in enumerate(sequences):\n",
        "        results[i, sequence] = 1.\n",
        "    return results\n",
        "train_data = vectorize_sequences(train_data)\n",
        "\n",
        "model = keras.Sequential([\n",
        "    layers.Dense(16, activation=\"relu\"),\n",
        "    layers.Dense(16, activation=\"relu\"),\n",
        "    layers.Dense(1, activation=\"sigmoid\")\n",
        "])\n",
        "model.compile(optimizer=\"rmsprop\",\n",
        "              loss=\"binary_crossentropy\",\n",
        "              metrics=[\"accuracy\"])\n",
        "history_original = model.fit(train_data, train_labels,\n",
        "                             epochs=20, batch_size=512, validation_split=0.4)"
      ]
    },
    {
      "cell_type": "markdown",
      "metadata": {
        "id": "5UyWHQgJLfFA"
      },
      "source": [
        "**Version of the model with lower capacity**"
      ]
    },
    {
      "cell_type": "code",
      "execution_count": null,
      "metadata": {
        "id": "gY9rbfQOLfFB"
      },
      "outputs": [],
      "source": [
        "model = keras.Sequential([\n",
        "    layers.Dense(4, activation=\"relu\"),\n",
        "    layers.Dense(4, activation=\"relu\"),\n",
        "    layers.Dense(1, activation=\"sigmoid\")\n",
        "])\n",
        "model.compile(optimizer=\"rmsprop\",\n",
        "              loss=\"binary_crossentropy\",\n",
        "              metrics=[\"accuracy\"])\n",
        "history_smaller_model = model.fit(\n",
        "    train_data, train_labels,\n",
        "    epochs=20, batch_size=512, validation_split=0.4)"
      ]
    },
    {
      "cell_type": "markdown",
      "metadata": {
        "id": "0r-1ff5NLfFB"
      },
      "source": [
        "**Version of the model with higher capacity**"
      ]
    },
    {
      "cell_type": "code",
      "execution_count": null,
      "metadata": {
        "id": "i-z2nNpfLfFB"
      },
      "outputs": [],
      "source": [
        "model = keras.Sequential([\n",
        "    layers.Dense(512, activation=\"relu\"),\n",
        "    layers.Dense(512, activation=\"relu\"),\n",
        "    layers.Dense(1, activation=\"sigmoid\")\n",
        "])\n",
        "model.compile(optimizer=\"rmsprop\",\n",
        "              loss=\"binary_crossentropy\",\n",
        "              metrics=[\"accuracy\"])\n",
        "history_larger_model = model.fit(\n",
        "    train_data, train_labels,\n",
        "    epochs=20, batch_size=512, validation_split=0.4)"
      ]
    },
    {
      "cell_type": "markdown",
      "metadata": {
        "id": "TOEUjyTKLfFB"
      },
      "source": [
        "#### Adding weight regularization"
      ]
    },
    {
      "cell_type": "markdown",
      "metadata": {
        "id": "m_CbIHg-LfFB"
      },
      "source": [
        "**Adding L2 weight regularization to the model**"
      ]
    },
    {
      "cell_type": "code",
      "execution_count": null,
      "metadata": {
        "id": "u_F1d9gJLfFC"
      },
      "outputs": [],
      "source": [
        "from tensorflow.keras import regularizers\n",
        "model = keras.Sequential([\n",
        "    layers.Dense(16,\n",
        "                 kernel_regularizer=regularizers.l2(0.002),\n",
        "                 activation=\"relu\"),\n",
        "    layers.Dense(16,\n",
        "                 kernel_regularizer=regularizers.l2(0.002),\n",
        "                 activation=\"relu\"),\n",
        "    layers.Dense(1, activation=\"sigmoid\")\n",
        "])\n",
        "model.compile(optimizer=\"rmsprop\",\n",
        "              loss=\"binary_crossentropy\",\n",
        "              metrics=[\"accuracy\"])\n",
        "history_l2_reg = model.fit(\n",
        "    train_data, train_labels,\n",
        "    epochs=20, batch_size=512, validation_split=0.4)"
      ]
    },
    {
      "cell_type": "markdown",
      "metadata": {
        "id": "2KdrI89hLfFC"
      },
      "source": [
        "**Different weight regularizers available in Keras**"
      ]
    },
    {
      "cell_type": "code",
      "execution_count": null,
      "metadata": {
        "id": "tuCsEk0MLfFC"
      },
      "outputs": [],
      "source": [
        "from tensorflow.keras import regularizers\n",
        "regularizers.l1(0.001)\n",
        "regularizers.l1_l2(l1=0.001, l2=0.001)"
      ]
    },
    {
      "cell_type": "markdown",
      "metadata": {
        "id": "6turU70yLfFC"
      },
      "source": [
        "#### Adding dropout"
      ]
    },
    {
      "cell_type": "markdown",
      "metadata": {
        "id": "UhOLTIUdLfFC"
      },
      "source": [
        "**Adding dropout to the IMDB model**"
      ]
    },
    {
      "cell_type": "code",
      "execution_count": null,
      "metadata": {
        "id": "pdRHZbgHLfFC"
      },
      "outputs": [],
      "source": [
        "model = keras.Sequential([\n",
        "    layers.Dense(16, activation=\"relu\"),\n",
        "    layers.Dropout(0.5),\n",
        "    layers.Dense(16, activation=\"relu\"),\n",
        "    layers.Dropout(0.5),\n",
        "    layers.Dense(1, activation=\"sigmoid\")\n",
        "])\n",
        "model.compile(optimizer=\"rmsprop\",\n",
        "              loss=\"binary_crossentropy\",\n",
        "              metrics=[\"accuracy\"])\n",
        "history_dropout = model.fit(\n",
        "    train_data, train_labels,\n",
        "    epochs=20, batch_size=512, validation_split=0.4)"
      ]
    },
    {
      "cell_type": "markdown",
      "metadata": {
        "id": "Da22rJW1LfFC"
      },
      "source": [
        "## Summary"
      ]
    },
    {
      "cell_type": "markdown",
      "source": [
        "#TRY\n",
        "-From Training the same model on MNIST data with noise channels or all-zero channels Add validation accuracy of original data for mnistdata.\n",
        "\n",
        "-Fitting a MNIST model with randomly shuffled labels.Visualize training accuracy and validation accuracy\n",
        "\n",
        "\n"
      ],
      "metadata": {
        "id": "yCVBcjJKzODm"
      }
    },
    {
      "cell_type": "code",
      "source": [
        "# TRY1_From Training the same model on MNIST data with noise channels or all-zero channels Add validation accuracy of original data for mnistdata.\n",
        "\n",
        "from tensorflow import keras\n",
        "from tensorflow.keras import layers\n",
        "import numpy as np\n",
        "import matplotlib.pyplot as plt\n",
        "\n",
        "(train_images, train_labels), (test_images, test_labels) = keras.datasets.mnist.load_data()\n",
        "train_images = train_images.reshape((60000, 28 * 28))\n",
        "train_images = train_images.astype(\"float32\") / 255\n",
        "\n",
        "# Add noise channels and all-zero channels to the training data\n",
        "train_images_with_noise_channels = np.concatenate(\n",
        "    [train_images, np.random.random((len(train_images), 784))], axis=1)\n",
        "\n",
        "train_images_with_zeros_channels = np.concatenate(\n",
        "    [train_images, np.zeros((len(train_images), 784))], axis=1)\n",
        "\n",
        "# Shuffle the labels randomly\n",
        "random_train_labels = train_labels[:]\n",
        "np.random.shuffle(random_train_labels)\n",
        "\n",
        "# Train the model on the original data with validation accuracy\n",
        "model = keras.Sequential([\n",
        "    layers.Dense(512, activation=\"relu\"),\n",
        "    layers.Dense(10, activation=\"softmax\")\n",
        "])\n",
        "model.compile(optimizer=\"rmsprop\",\n",
        "              loss=\"sparse_categorical_crossentropy\",\n",
        "              metrics=[\"accuracy\"])\n",
        "history_original = model.fit(train_images, train_labels,\n",
        "                             epochs=10,\n",
        "                             batch_size=128,\n",
        "                             validation_split=0.2)\n",
        "\n",
        "# Train the model on the data with noise channels and get the validation accuracy\n",
        "model = keras.Sequential([\n",
        "    layers.Dense(512, activation=\"relu\"),\n",
        "    layers.Dense(10, activation=\"softmax\")\n",
        "])\n",
        "model.compile(optimizer=\"rmsprop\",\n",
        "              loss=\"sparse_categorical_crossentropy\",\n",
        "              metrics=[\"accuracy\"])\n",
        "history_noise = model.fit(train_images_with_noise_channels, train_labels,\n",
        "                          epochs=10,\n",
        "                          batch_size=128,\n",
        "                          validation_split=0.2)\n",
        "val_acc_noise = history_noise.history[\"val_accuracy\"]\n",
        "\n",
        "# Train the model on the data with all-zero channels and get the validation accuracy\n",
        "model = keras.Sequential([\n",
        "    layers.Dense(512, activation=\"relu\"),\n",
        "    layers.Dense(10, activation=\"softmax\")\n",
        "])\n",
        "model.compile(optimizer=\"rmsprop\",\n",
        "              loss=\"sparse_categorical_crossentropy\",\n",
        "              metrics=[\"accuracy\"])\n",
        "history_zeros = model.fit(train_images_with_zeros_channels, train_labels,\n",
        "                          epochs=10,\n",
        "                          batch_size=128,\n",
        "                          validation_split=0.2)\n",
        "val_acc_zeros = history_zeros.history[\"val_accuracy\"]\n",
        "\n",
        "# Plot the validation accuracies for all three cases\n",
        "epochs = range(1, 11)\n",
        "plt.plot(epochs, history_original.history[\"val_accuracy\"], \"b-\",\n",
        "         label=\"Validation accuracy for original data\")\n",
        "plt.plot(epochs, val_acc_noise, \"g-\",\n",
        "         label=\"Validation accuracy with noise channels\")\n",
        "plt.plot(epochs, val_acc_zeros, \"r-\",\n",
        "         label=\"Validation accuracy with all-zero channels\")\n",
        "plt.title(\"Effect of noise channels and all-zero channels on validation accuracy\")\n",
        "plt.xlabel(\"Epochs\")\n",
        "plt.ylabel(\"Accuracy\")\n",
        "plt.legend()\n",
        "plt.show()\n"
      ],
      "metadata": {
        "colab": {
          "base_uri": "https://localhost:8080/",
          "height": 1000
        },
        "id": "lS4BJiWM0UOQ",
        "outputId": "3d0b9324-9126-43da-c40e-dac1dab558e0"
      },
      "execution_count": 1,
      "outputs": [
        {
          "output_type": "stream",
          "name": "stdout",
          "text": [
            "Downloading data from https://storage.googleapis.com/tensorflow/tf-keras-datasets/mnist.npz\n",
            "11490434/11490434 [==============================] - 2s 0us/step\n",
            "Epoch 1/10\n",
            "375/375 [==============================] - 9s 5ms/step - loss: 2.3152 - accuracy: 0.1025 - val_loss: 2.3055 - val_accuracy: 0.1091\n",
            "Epoch 2/10\n",
            "375/375 [==============================] - 1s 3ms/step - loss: 2.2993 - accuracy: 0.1168 - val_loss: 2.3116 - val_accuracy: 0.1052\n",
            "Epoch 3/10\n",
            "375/375 [==============================] - 1s 3ms/step - loss: 2.2922 - accuracy: 0.1247 - val_loss: 2.3208 - val_accuracy: 0.1005\n",
            "Epoch 4/10\n",
            "375/375 [==============================] - 1s 3ms/step - loss: 2.2802 - accuracy: 0.1379 - val_loss: 2.3250 - val_accuracy: 0.1026\n",
            "Epoch 5/10\n",
            "375/375 [==============================] - 1s 3ms/step - loss: 2.2650 - accuracy: 0.1489 - val_loss: 2.3310 - val_accuracy: 0.1031\n",
            "Epoch 6/10\n",
            "375/375 [==============================] - 1s 3ms/step - loss: 2.2468 - accuracy: 0.1616 - val_loss: 2.3413 - val_accuracy: 0.1029\n",
            "Epoch 7/10\n",
            "375/375 [==============================] - 1s 3ms/step - loss: 2.2249 - accuracy: 0.1790 - val_loss: 2.3579 - val_accuracy: 0.0999\n",
            "Epoch 8/10\n",
            "375/375 [==============================] - 2s 4ms/step - loss: 2.1980 - accuracy: 0.1929 - val_loss: 2.3834 - val_accuracy: 0.1058\n",
            "Epoch 9/10\n",
            "375/375 [==============================] - 1s 3ms/step - loss: 2.1698 - accuracy: 0.2100 - val_loss: 2.3942 - val_accuracy: 0.1030\n",
            "Epoch 10/10\n",
            "375/375 [==============================] - 1s 3ms/step - loss: 2.1379 - accuracy: 0.2258 - val_loss: 2.4170 - val_accuracy: 0.1063\n",
            "Epoch 1/10\n",
            "375/375 [==============================] - 2s 4ms/step - loss: 2.3566 - accuracy: 0.1037 - val_loss: 2.3023 - val_accuracy: 0.1083\n",
            "Epoch 2/10\n",
            "375/375 [==============================] - 1s 3ms/step - loss: 2.3020 - accuracy: 0.1102 - val_loss: 2.3012 - val_accuracy: 0.1139\n",
            "Epoch 3/10\n",
            "375/375 [==============================] - 1s 3ms/step - loss: 2.3019 - accuracy: 0.1113 - val_loss: 2.3018 - val_accuracy: 0.1138\n",
            "Epoch 4/10\n",
            "375/375 [==============================] - 1s 3ms/step - loss: 2.3022 - accuracy: 0.1115 - val_loss: 2.3015 - val_accuracy: 0.1131\n",
            "Epoch 5/10\n",
            "375/375 [==============================] - 1s 3ms/step - loss: 2.3017 - accuracy: 0.1107 - val_loss: 2.3023 - val_accuracy: 0.1046\n",
            "Epoch 6/10\n",
            "375/375 [==============================] - 1s 4ms/step - loss: 2.3010 - accuracy: 0.1111 - val_loss: 2.3058 - val_accuracy: 0.1123\n",
            "Epoch 7/10\n",
            "375/375 [==============================] - 2s 4ms/step - loss: 2.2990 - accuracy: 0.1161 - val_loss: 2.3070 - val_accuracy: 0.1007\n",
            "Epoch 8/10\n",
            "375/375 [==============================] - 1s 3ms/step - loss: 2.2969 - accuracy: 0.1153 - val_loss: 2.3095 - val_accuracy: 0.1047\n",
            "Epoch 9/10\n",
            "375/375 [==============================] - 1s 3ms/step - loss: 2.2911 - accuracy: 0.1261 - val_loss: 2.3080 - val_accuracy: 0.0999\n",
            "Epoch 10/10\n",
            "375/375 [==============================] - 1s 3ms/step - loss: 2.2848 - accuracy: 0.1338 - val_loss: 2.3196 - val_accuracy: 0.1061\n",
            "Epoch 1/10\n",
            "375/375 [==============================] - 3s 6ms/step - loss: 2.3126 - accuracy: 0.1005 - val_loss: 2.3033 - val_accuracy: 0.1087\n",
            "Epoch 2/10\n",
            "375/375 [==============================] - 2s 6ms/step - loss: 2.3008 - accuracy: 0.1148 - val_loss: 2.3087 - val_accuracy: 0.1067\n",
            "Epoch 3/10\n",
            "375/375 [==============================] - 2s 5ms/step - loss: 2.2960 - accuracy: 0.1223 - val_loss: 2.3122 - val_accuracy: 0.1117\n",
            "Epoch 4/10\n",
            "375/375 [==============================] - 2s 6ms/step - loss: 2.2864 - accuracy: 0.1324 - val_loss: 2.3210 - val_accuracy: 0.1018\n",
            "Epoch 5/10\n",
            "375/375 [==============================] - 1s 3ms/step - loss: 2.2746 - accuracy: 0.1428 - val_loss: 2.3267 - val_accuracy: 0.1007\n",
            "Epoch 6/10\n",
            "375/375 [==============================] - 1s 4ms/step - loss: 2.2581 - accuracy: 0.1548 - val_loss: 2.3345 - val_accuracy: 0.1042\n",
            "Epoch 7/10\n",
            "375/375 [==============================] - 1s 3ms/step - loss: 2.2363 - accuracy: 0.1688 - val_loss: 2.3521 - val_accuracy: 0.1050\n",
            "Epoch 8/10\n",
            "375/375 [==============================] - 1s 3ms/step - loss: 2.2138 - accuracy: 0.1853 - val_loss: 2.3688 - val_accuracy: 0.1055\n",
            "Epoch 9/10\n",
            "375/375 [==============================] - 1s 3ms/step - loss: 2.1876 - accuracy: 0.1989 - val_loss: 2.3887 - val_accuracy: 0.1022\n",
            "Epoch 10/10\n",
            "375/375 [==============================] - 1s 3ms/step - loss: 2.1588 - accuracy: 0.2139 - val_loss: 2.4010 - val_accuracy: 0.0986\n"
          ]
        },
        {
          "output_type": "display_data",
          "data": {
            "text/plain": [
              "<Figure size 640x480 with 1 Axes>"
            ],
            "image/png": "[encoded data removed]"
          },
          "metadata": {}
        }
      ]
    },
    {
      "cell_type": "code",
      "source": [
        "# TRY2_Fitting a MNIST model with randomly shuffled labels.Visualize training accuracy and validation accuracy\n",
        "from tensorflow import keras\n",
        "from tensorflow.keras import layers\n",
        "from tensorflow.keras.datasets import mnist\n",
        "import numpy as np\n",
        "import matplotlib.pyplot as plt\n",
        "\n",
        "# Load MNIST data\n",
        "(train_images, train_labels), (test_images, test_labels) = mnist.load_data()\n",
        "\n",
        "# Flatten images to 1D array\n",
        "train_images = train_images.reshape((60000, 28 * 28))\n",
        "train_images = train_images.astype(\"float32\") / 255\n",
        "\n",
        "# Shuffle the labels randomly\n",
        "random_train_labels = train_labels[:]\n",
        "np.random.shuffle(random_train_labels)\n",
        "\n",
        "# Build and compile the model\n",
        "model = keras.Sequential([\n",
        "    layers.Dense(512, activation=\"relu\"),\n",
        "    layers.Dense(10, activation=\"softmax\")\n",
        "])\n",
        "model.compile(optimizer=\"rmsprop\",\n",
        "              loss=\"sparse_categorical_crossentropy\",\n",
        "              metrics=[\"accuracy\"])\n",
        "\n",
        "# Train the model with shuffled labels\n",
        "history = model.fit(train_images, random_train_labels,\n",
        "                    epochs=10,\n",
        "                    batch_size=128,\n",
        "                    validation_split=0.2)\n",
        "\n",
        "# Plot training and validation accuracy\n",
        "acc = history.history[\"accuracy\"]\n",
        "val_acc = history.history[\"val_accuracy\"]\n",
        "epochs = range(1, len(acc) + 1)\n",
        "plt.plot(epochs, acc, \"b-\", label=\"Training accuracy\")\n",
        "plt.plot(epochs, val_acc, \"b--\", label=\"Validation accuracy\")\n",
        "plt.title(\"Training and validation accuracy with shuffled labels\")\n",
        "plt.xlabel(\"Epochs\")\n",
        "plt.ylabel(\"Accuracy\")\n",
        "plt.legend()\n",
        "plt.show()\n"
      ],
      "metadata": {
        "colab": {
          "base_uri": "https://localhost:8080/",
          "height": 835
        },
        "id": "DC3kVug120bX",
        "outputId": "4ae4f52f-1234-4731-a52b-1433d9605a93"
      },
      "execution_count": 2,
      "outputs": [
        {
          "output_type": "stream",
          "name": "stdout",
          "text": [
            "Epoch 1/10\n",
            "375/375 [==============================] - 2s 4ms/step - loss: 2.3160 - accuracy: 0.1023 - val_loss: 2.3032 - val_accuracy: 0.1152\n",
            "Epoch 2/10\n",
            "375/375 [==============================] - 1s 4ms/step - loss: 2.2989 - accuracy: 0.1175 - val_loss: 2.3160 - val_accuracy: 0.0997\n",
            "Epoch 3/10\n",
            "375/375 [==============================] - 2s 4ms/step - loss: 2.2916 - accuracy: 0.1253 - val_loss: 2.3207 - val_accuracy: 0.1046\n",
            "Epoch 4/10\n",
            "375/375 [==============================] - 1s 3ms/step - loss: 2.2795 - accuracy: 0.1396 - val_loss: 2.3229 - val_accuracy: 0.1056\n",
            "Epoch 5/10\n",
            "375/375 [==============================] - 1s 3ms/step - loss: 2.2642 - accuracy: 0.1513 - val_loss: 2.3390 - val_accuracy: 0.1011\n",
            "Epoch 6/10\n",
            "375/375 [==============================] - 1s 3ms/step - loss: 2.2454 - accuracy: 0.1644 - val_loss: 2.3524 - val_accuracy: 0.0999\n",
            "Epoch 7/10\n",
            "375/375 [==============================] - 1s 3ms/step - loss: 2.2215 - accuracy: 0.1799 - val_loss: 2.3612 - val_accuracy: 0.1002\n",
            "Epoch 8/10\n",
            "375/375 [==============================] - 1s 3ms/step - loss: 2.1956 - accuracy: 0.1952 - val_loss: 2.3723 - val_accuracy: 0.1028\n",
            "Epoch 9/10\n",
            "375/375 [==============================] - 1s 3ms/step - loss: 2.1660 - accuracy: 0.2141 - val_loss: 2.3955 - val_accuracy: 0.0983\n",
            "Epoch 10/10\n",
            "375/375 [==============================] - 1s 3ms/step - loss: 2.1354 - accuracy: 0.2272 - val_loss: 2.4129 - val_accuracy: 0.0989\n"
          ]
        },
        {
          "output_type": "display_data",
          "data": {
            "text/plain": [
              "<Figure size 640x480 with 1 Axes>"
            ],
            "image/png": "[encoded data removed]"
          },
          "metadata": {}
        }
      ]
    },
    {
      "cell_type": "code",
      "source": [
        "(train_images, train_labels), _ = mnist.load_data()\n",
        "train_images = train_images.reshape((60000, 28 * 28))\n",
        "train_images = train_images.astype(\"float32\") / 255\n",
        "\n",
        "random_train_labels = train_labels[:]\n",
        "np.random.shuffle(random_train_labels)\n",
        "\n",
        "model2 = keras.Sequential([\n",
        "    layers.Dense(512, activation=\"relu\"),\n",
        "    layers.Dense(10, activation=\"softmax\")\n",
        "])\n",
        "\n",
        "model2.compile(optimizer=\"rmsprop\",\n",
        "              loss=\"sparse_categorical_crossentropy\",\n",
        "              metrics=[\"accuracy\"])\n",
        "\n",
        "history_random = model2.fit(train_images, random_train_labels,\n",
        "          epochs=100,\n",
        "          batch_size=128,\n",
        "          validation_split=0.2)\n",
        "\n",
        "# MNIST 데이터셋을 로드하고, train_images와 train_labels로 나눕니다.\n",
        "# train_images를 28x28 크기의 60,000개의 이미지 배열로 변환합니다.\n",
        "# 이후, train_images를 255로 나누어 0에서 1사이의 값으로 스케일링합니다.\n",
        "# random_train_labels은 train_labels를 복사하여 만든 배열로, train_labels의 값을 랜덤하게 섞은 것입니다.\n",
        "# Dense 레이어를 2개로 쌓아 신경망을 만듭니다. 두 레이어는 각각 512와 10개의 노드를 가집니다.\n",
        "# 마지막 레이어는 10개의 노드를 가지며, softmax 활성화 함수를 사용합니다.\n",
        "# 모델을 컴파일합니다. 오차 함수는 sparse_categorical_crossentropy, 옵티마이저는 rmsprop을 사용하며, 평가 지표는 accuracy입니다.\n",
        "# train_images와 random_train_labels를 사용하여 모델을 학습합니다.\n",
        "# 100 에포크를 수행하며, 배치 크기는 128로 지정하고, 학습 데이터의 20%를 검증 데이터로 사용합니다."
      ],
      "metadata": {
        "colab": {
          "base_uri": "https://localhost:8080/"
        },
        "id": "r3jtlaJc6jvW",
        "outputId": "3713d128-7ffa-4f0e-c2f7-4caa2b1b2234"
      },
      "execution_count": 5,
      "outputs": [
        {
          "output_type": "stream",
          "name": "stdout",
          "text": [
            "Epoch 1/100\n",
            "375/375 [==============================] - 2s 3ms/step - loss: 2.3153 - accuracy: 0.1025 - val_loss: 2.3042 - val_accuracy: 0.1032\n",
            "Epoch 2/100\n",
            "375/375 [==============================] - 2s 4ms/step - loss: 2.2991 - accuracy: 0.1183 - val_loss: 2.3126 - val_accuracy: 0.1103\n",
            "Epoch 3/100\n",
            "375/375 [==============================] - 1s 3ms/step - loss: 2.2910 - accuracy: 0.1272 - val_loss: 2.3155 - val_accuracy: 0.1073\n",
            "Epoch 4/100\n",
            "375/375 [==============================] - 1s 3ms/step - loss: 2.2780 - accuracy: 0.1400 - val_loss: 2.3296 - val_accuracy: 0.1023\n",
            "Epoch 5/100\n",
            "375/375 [==============================] - 1s 3ms/step - loss: 2.2621 - accuracy: 0.1529 - val_loss: 2.3287 - val_accuracy: 0.1020\n",
            "Epoch 6/100\n",
            "375/375 [==============================] - 1s 4ms/step - loss: 2.2424 - accuracy: 0.1657 - val_loss: 2.3545 - val_accuracy: 0.1063\n",
            "Epoch 7/100\n",
            "375/375 [==============================] - 1s 4ms/step - loss: 2.2196 - accuracy: 0.1809 - val_loss: 2.3620 - val_accuracy: 0.1059\n",
            "Epoch 8/100\n",
            "375/375 [==============================] - 1s 3ms/step - loss: 2.1920 - accuracy: 0.1966 - val_loss: 2.3791 - val_accuracy: 0.1003\n",
            "Epoch 9/100\n",
            "375/375 [==============================] - 1s 3ms/step - loss: 2.1615 - accuracy: 0.2147 - val_loss: 2.4044 - val_accuracy: 0.1018\n",
            "Epoch 10/100\n",
            "375/375 [==============================] - 1s 3ms/step - loss: 2.1298 - accuracy: 0.2302 - val_loss: 2.4261 - val_accuracy: 0.1026\n",
            "Epoch 11/100\n",
            "375/375 [==============================] - 1s 3ms/step - loss: 2.0957 - accuracy: 0.2461 - val_loss: 2.4542 - val_accuracy: 0.0982\n",
            "Epoch 12/100\n",
            "375/375 [==============================] - 1s 3ms/step - loss: 2.0588 - accuracy: 0.2621 - val_loss: 2.4754 - val_accuracy: 0.0993\n",
            "Epoch 13/100\n",
            "375/375 [==============================] - 1s 3ms/step - loss: 2.0233 - accuracy: 0.2802 - val_loss: 2.5025 - val_accuracy: 0.1010\n",
            "Epoch 14/100\n",
            "375/375 [==============================] - 1s 3ms/step - loss: 1.9825 - accuracy: 0.2982 - val_loss: 2.5333 - val_accuracy: 0.0987\n",
            "Epoch 15/100\n",
            "375/375 [==============================] - 1s 3ms/step - loss: 1.9438 - accuracy: 0.3135 - val_loss: 2.5735 - val_accuracy: 0.1026\n",
            "Epoch 16/100\n",
            "375/375 [==============================] - 1s 4ms/step - loss: 1.9053 - accuracy: 0.3299 - val_loss: 2.6056 - val_accuracy: 0.1028\n",
            "Epoch 17/100\n",
            "375/375 [==============================] - 1s 4ms/step - loss: 1.8677 - accuracy: 0.3470 - val_loss: 2.6438 - val_accuracy: 0.1024\n",
            "Epoch 18/100\n",
            "375/375 [==============================] - 1s 3ms/step - loss: 1.8275 - accuracy: 0.3628 - val_loss: 2.6775 - val_accuracy: 0.0993\n",
            "Epoch 19/100\n",
            "375/375 [==============================] - 1s 3ms/step - loss: 1.7899 - accuracy: 0.3764 - val_loss: 2.7138 - val_accuracy: 0.1001\n",
            "Epoch 20/100\n",
            "375/375 [==============================] - 1s 3ms/step - loss: 1.7512 - accuracy: 0.3925 - val_loss: 2.7548 - val_accuracy: 0.1043\n",
            "Epoch 21/100\n",
            "375/375 [==============================] - 1s 3ms/step - loss: 1.7124 - accuracy: 0.4085 - val_loss: 2.8014 - val_accuracy: 0.1047\n",
            "Epoch 22/100\n",
            "375/375 [==============================] - 1s 3ms/step - loss: 1.6765 - accuracy: 0.4202 - val_loss: 2.8369 - val_accuracy: 0.1014\n",
            "Epoch 23/100\n",
            "375/375 [==============================] - 1s 3ms/step - loss: 1.6382 - accuracy: 0.4340 - val_loss: 2.8937 - val_accuracy: 0.0997\n",
            "Epoch 24/100\n",
            "375/375 [==============================] - 1s 3ms/step - loss: 1.6062 - accuracy: 0.4456 - val_loss: 2.9397 - val_accuracy: 0.1014\n",
            "Epoch 25/100\n",
            "375/375 [==============================] - 1s 3ms/step - loss: 1.5697 - accuracy: 0.4613 - val_loss: 2.9796 - val_accuracy: 0.1001\n",
            "Epoch 26/100\n",
            "375/375 [==============================] - 2s 4ms/step - loss: 1.5361 - accuracy: 0.4739 - val_loss: 3.0268 - val_accuracy: 0.1013\n",
            "Epoch 27/100\n",
            "375/375 [==============================] - 1s 3ms/step - loss: 1.5007 - accuracy: 0.4879 - val_loss: 3.0669 - val_accuracy: 0.0993\n",
            "Epoch 28/100\n",
            "375/375 [==============================] - 1s 3ms/step - loss: 1.4719 - accuracy: 0.4986 - val_loss: 3.1246 - val_accuracy: 0.1045\n",
            "Epoch 29/100\n",
            "375/375 [==============================] - 1s 3ms/step - loss: 1.4377 - accuracy: 0.5115 - val_loss: 3.1691 - val_accuracy: 0.1002\n",
            "Epoch 30/100\n",
            "375/375 [==============================] - 1s 3ms/step - loss: 1.4085 - accuracy: 0.5235 - val_loss: 3.2166 - val_accuracy: 0.1022\n",
            "Epoch 31/100\n",
            "375/375 [==============================] - 1s 3ms/step - loss: 1.3768 - accuracy: 0.5336 - val_loss: 3.2722 - val_accuracy: 0.1012\n",
            "Epoch 32/100\n",
            "375/375 [==============================] - 1s 3ms/step - loss: 1.3511 - accuracy: 0.5412 - val_loss: 3.3325 - val_accuracy: 0.0975\n",
            "Epoch 33/100\n",
            "375/375 [==============================] - 1s 3ms/step - loss: 1.3179 - accuracy: 0.5570 - val_loss: 3.3931 - val_accuracy: 0.0994\n",
            "Epoch 34/100\n",
            "375/375 [==============================] - 1s 3ms/step - loss: 1.2927 - accuracy: 0.5621 - val_loss: 3.4564 - val_accuracy: 0.0993\n",
            "Epoch 35/100\n",
            "375/375 [==============================] - 1s 3ms/step - loss: 1.2657 - accuracy: 0.5705 - val_loss: 3.4605 - val_accuracy: 0.1020\n",
            "Epoch 36/100\n",
            "375/375 [==============================] - 2s 4ms/step - loss: 1.2353 - accuracy: 0.5832 - val_loss: 3.5519 - val_accuracy: 0.1019\n",
            "Epoch 37/100\n",
            "375/375 [==============================] - 1s 3ms/step - loss: 1.2096 - accuracy: 0.5931 - val_loss: 3.6426 - val_accuracy: 0.0992\n",
            "Epoch 38/100\n",
            "375/375 [==============================] - 1s 3ms/step - loss: 1.1867 - accuracy: 0.6044 - val_loss: 3.6659 - val_accuracy: 0.1024\n",
            "Epoch 39/100\n",
            "375/375 [==============================] - 1s 3ms/step - loss: 1.1605 - accuracy: 0.6120 - val_loss: 3.7365 - val_accuracy: 0.1004\n",
            "Epoch 40/100\n",
            "375/375 [==============================] - 1s 3ms/step - loss: 1.1372 - accuracy: 0.6176 - val_loss: 3.8068 - val_accuracy: 0.1029\n",
            "Epoch 41/100\n",
            "375/375 [==============================] - 1s 3ms/step - loss: 1.1112 - accuracy: 0.6300 - val_loss: 3.8367 - val_accuracy: 0.1039\n",
            "Epoch 42/100\n",
            "375/375 [==============================] - 1s 4ms/step - loss: 1.0886 - accuracy: 0.6369 - val_loss: 3.9211 - val_accuracy: 0.1030\n",
            "Epoch 43/100\n",
            "375/375 [==============================] - 1s 4ms/step - loss: 1.0663 - accuracy: 0.6474 - val_loss: 4.0103 - val_accuracy: 0.0985\n",
            "Epoch 44/100\n",
            "375/375 [==============================] - 1s 3ms/step - loss: 1.0440 - accuracy: 0.6541 - val_loss: 4.0386 - val_accuracy: 0.1010\n",
            "Epoch 45/100\n",
            "375/375 [==============================] - 1s 3ms/step - loss: 1.0229 - accuracy: 0.6589 - val_loss: 4.1075 - val_accuracy: 0.1048\n",
            "Epoch 46/100\n",
            "375/375 [==============================] - 1s 4ms/step - loss: 1.0029 - accuracy: 0.6697 - val_loss: 4.1885 - val_accuracy: 0.0982\n",
            "Epoch 47/100\n",
            "375/375 [==============================] - 1s 3ms/step - loss: 0.9799 - accuracy: 0.6775 - val_loss: 4.2424 - val_accuracy: 0.1000\n",
            "Epoch 48/100\n",
            "375/375 [==============================] - 1s 3ms/step - loss: 0.9618 - accuracy: 0.6819 - val_loss: 4.2856 - val_accuracy: 0.0969\n",
            "Epoch 49/100\n",
            "375/375 [==============================] - 1s 3ms/step - loss: 0.9413 - accuracy: 0.6886 - val_loss: 4.3384 - val_accuracy: 0.1012\n",
            "Epoch 50/100\n",
            "375/375 [==============================] - 1s 3ms/step - loss: 0.9231 - accuracy: 0.6970 - val_loss: 4.3949 - val_accuracy: 0.1000\n",
            "Epoch 51/100\n",
            "375/375 [==============================] - 1s 3ms/step - loss: 0.9032 - accuracy: 0.7006 - val_loss: 4.4790 - val_accuracy: 0.1017\n",
            "Epoch 52/100\n",
            "375/375 [==============================] - 1s 3ms/step - loss: 0.8864 - accuracy: 0.7079 - val_loss: 4.5403 - val_accuracy: 0.1061\n",
            "Epoch 53/100\n",
            "375/375 [==============================] - 1s 3ms/step - loss: 0.8685 - accuracy: 0.7150 - val_loss: 4.6179 - val_accuracy: 0.1001\n",
            "Epoch 54/100\n",
            "375/375 [==============================] - 1s 3ms/step - loss: 0.8494 - accuracy: 0.7225 - val_loss: 4.6676 - val_accuracy: 0.1028\n",
            "Epoch 55/100\n",
            "375/375 [==============================] - 1s 3ms/step - loss: 0.8329 - accuracy: 0.7300 - val_loss: 4.7329 - val_accuracy: 0.1025\n",
            "Epoch 56/100\n",
            "375/375 [==============================] - 2s 4ms/step - loss: 0.8170 - accuracy: 0.7328 - val_loss: 4.8644 - val_accuracy: 0.1045\n",
            "Epoch 57/100\n",
            "375/375 [==============================] - 1s 3ms/step - loss: 0.7991 - accuracy: 0.7386 - val_loss: 4.8819 - val_accuracy: 0.0994\n",
            "Epoch 58/100\n",
            "375/375 [==============================] - 1s 3ms/step - loss: 0.7837 - accuracy: 0.7450 - val_loss: 4.9621 - val_accuracy: 0.1002\n",
            "Epoch 59/100\n",
            "375/375 [==============================] - 2s 4ms/step - loss: 0.7653 - accuracy: 0.7518 - val_loss: 5.0099 - val_accuracy: 0.1029\n",
            "Epoch 60/100\n",
            "375/375 [==============================] - 2s 5ms/step - loss: 0.7529 - accuracy: 0.7530 - val_loss: 5.0690 - val_accuracy: 0.0998\n",
            "Epoch 61/100\n",
            "375/375 [==============================] - 1s 3ms/step - loss: 0.7379 - accuracy: 0.7592 - val_loss: 5.1620 - val_accuracy: 0.1020\n",
            "Epoch 62/100\n",
            "375/375 [==============================] - 1s 3ms/step - loss: 0.7238 - accuracy: 0.7650 - val_loss: 5.2408 - val_accuracy: 0.1025\n",
            "Epoch 63/100\n",
            "375/375 [==============================] - 1s 3ms/step - loss: 0.7087 - accuracy: 0.7691 - val_loss: 5.3390 - val_accuracy: 0.0974\n",
            "Epoch 64/100\n",
            "375/375 [==============================] - 1s 4ms/step - loss: 0.6923 - accuracy: 0.7760 - val_loss: 5.3922 - val_accuracy: 0.1009\n",
            "Epoch 65/100\n",
            "375/375 [==============================] - 1s 4ms/step - loss: 0.6783 - accuracy: 0.7804 - val_loss: 5.4727 - val_accuracy: 0.1002\n",
            "Epoch 66/100\n",
            "375/375 [==============================] - 1s 3ms/step - loss: 0.6700 - accuracy: 0.7843 - val_loss: 5.4977 - val_accuracy: 0.1013\n",
            "Epoch 67/100\n",
            "375/375 [==============================] - 1s 3ms/step - loss: 0.6537 - accuracy: 0.7891 - val_loss: 5.5879 - val_accuracy: 0.1004\n",
            "Epoch 68/100\n",
            "375/375 [==============================] - 1s 3ms/step - loss: 0.6419 - accuracy: 0.7924 - val_loss: 5.6474 - val_accuracy: 0.1028\n",
            "Epoch 69/100\n",
            "375/375 [==============================] - 1s 3ms/step - loss: 0.6300 - accuracy: 0.7982 - val_loss: 5.7222 - val_accuracy: 0.0996\n",
            "Epoch 70/100\n",
            "375/375 [==============================] - 1s 3ms/step - loss: 0.6156 - accuracy: 0.8043 - val_loss: 5.8027 - val_accuracy: 0.0997\n",
            "Epoch 71/100\n",
            "375/375 [==============================] - 1s 3ms/step - loss: 0.6039 - accuracy: 0.8044 - val_loss: 5.8556 - val_accuracy: 0.1000\n",
            "Epoch 72/100\n",
            "375/375 [==============================] - 1s 3ms/step - loss: 0.5915 - accuracy: 0.8107 - val_loss: 5.8992 - val_accuracy: 0.1016\n",
            "Epoch 73/100\n",
            "375/375 [==============================] - 1s 3ms/step - loss: 0.5824 - accuracy: 0.8143 - val_loss: 5.9835 - val_accuracy: 0.1001\n",
            "Epoch 74/100\n",
            "375/375 [==============================] - 1s 3ms/step - loss: 0.5689 - accuracy: 0.8185 - val_loss: 6.1281 - val_accuracy: 0.1028\n",
            "Epoch 75/100\n",
            "375/375 [==============================] - 2s 4ms/step - loss: 0.5605 - accuracy: 0.8205 - val_loss: 6.2042 - val_accuracy: 0.1007\n",
            "Epoch 76/100\n",
            "375/375 [==============================] - 1s 3ms/step - loss: 0.5488 - accuracy: 0.8252 - val_loss: 6.2618 - val_accuracy: 0.1015\n",
            "Epoch 77/100\n",
            "375/375 [==============================] - 1s 3ms/step - loss: 0.5364 - accuracy: 0.8286 - val_loss: 6.3348 - val_accuracy: 0.1033\n",
            "Epoch 78/100\n",
            "375/375 [==============================] - 1s 3ms/step - loss: 0.5277 - accuracy: 0.8316 - val_loss: 6.3926 - val_accuracy: 0.1006\n",
            "Epoch 79/100\n",
            "375/375 [==============================] - 1s 3ms/step - loss: 0.5181 - accuracy: 0.8341 - val_loss: 6.4304 - val_accuracy: 0.1024\n",
            "Epoch 80/100\n",
            "375/375 [==============================] - 1s 3ms/step - loss: 0.5073 - accuracy: 0.8388 - val_loss: 6.5421 - val_accuracy: 0.1013\n",
            "Epoch 81/100\n",
            "375/375 [==============================] - 1s 3ms/step - loss: 0.4977 - accuracy: 0.8426 - val_loss: 6.6610 - val_accuracy: 0.1001\n",
            "Epoch 82/100\n",
            "375/375 [==============================] - 1s 3ms/step - loss: 0.4871 - accuracy: 0.8458 - val_loss: 6.6852 - val_accuracy: 0.1006\n",
            "Epoch 83/100\n",
            "375/375 [==============================] - 1s 3ms/step - loss: 0.4778 - accuracy: 0.8478 - val_loss: 6.7659 - val_accuracy: 0.1028\n",
            "Epoch 84/100\n",
            "375/375 [==============================] - 1s 4ms/step - loss: 0.4705 - accuracy: 0.8521 - val_loss: 6.8491 - val_accuracy: 0.0997\n",
            "Epoch 85/100\n",
            "375/375 [==============================] - 2s 4ms/step - loss: 0.4599 - accuracy: 0.8563 - val_loss: 6.9351 - val_accuracy: 0.0974\n",
            "Epoch 86/100\n",
            "375/375 [==============================] - 1s 3ms/step - loss: 0.4513 - accuracy: 0.8589 - val_loss: 7.0191 - val_accuracy: 0.1007\n",
            "Epoch 87/100\n",
            "375/375 [==============================] - 1s 3ms/step - loss: 0.4434 - accuracy: 0.8608 - val_loss: 7.0844 - val_accuracy: 0.0992\n",
            "Epoch 88/100\n",
            "375/375 [==============================] - 1s 3ms/step - loss: 0.4356 - accuracy: 0.8636 - val_loss: 7.1331 - val_accuracy: 0.1020\n",
            "Epoch 89/100\n",
            "375/375 [==============================] - 1s 3ms/step - loss: 0.4280 - accuracy: 0.8643 - val_loss: 7.2340 - val_accuracy: 0.1001\n",
            "Epoch 90/100\n",
            "375/375 [==============================] - 1s 3ms/step - loss: 0.4188 - accuracy: 0.8699 - val_loss: 7.2822 - val_accuracy: 0.0984\n",
            "Epoch 91/100\n",
            "375/375 [==============================] - 1s 3ms/step - loss: 0.4113 - accuracy: 0.8723 - val_loss: 7.4039 - val_accuracy: 0.1008\n",
            "Epoch 92/100\n",
            "375/375 [==============================] - 1s 3ms/step - loss: 0.4037 - accuracy: 0.8737 - val_loss: 7.4050 - val_accuracy: 0.1043\n",
            "Epoch 93/100\n",
            "375/375 [==============================] - 1s 3ms/step - loss: 0.3961 - accuracy: 0.8767 - val_loss: 7.5353 - val_accuracy: 0.1014\n",
            "Epoch 94/100\n",
            "375/375 [==============================] - 1s 4ms/step - loss: 0.3898 - accuracy: 0.8786 - val_loss: 7.5894 - val_accuracy: 0.0992\n",
            "Epoch 95/100\n",
            "375/375 [==============================] - 1s 4ms/step - loss: 0.3821 - accuracy: 0.8817 - val_loss: 7.6686 - val_accuracy: 0.1014\n",
            "Epoch 96/100\n",
            "375/375 [==============================] - 1s 3ms/step - loss: 0.3773 - accuracy: 0.8819 - val_loss: 7.7615 - val_accuracy: 0.1002\n",
            "Epoch 97/100\n",
            "375/375 [==============================] - 1s 3ms/step - loss: 0.3690 - accuracy: 0.8866 - val_loss: 7.8150 - val_accuracy: 0.1027\n",
            "Epoch 98/100\n",
            "375/375 [==============================] - 1s 3ms/step - loss: 0.3631 - accuracy: 0.8882 - val_loss: 8.0670 - val_accuracy: 0.1034\n",
            "Epoch 99/100\n",
            "375/375 [==============================] - 1s 3ms/step - loss: 0.3586 - accuracy: 0.8895 - val_loss: 7.9418 - val_accuracy: 0.1015\n",
            "Epoch 100/100\n",
            "375/375 [==============================] - 2s 5ms/step - loss: 0.3489 - accuracy: 0.8932 - val_loss: 8.0297 - val_accuracy: 0.1016\n"
          ]
        }
      ]
    },
    {
      "cell_type": "code",
      "source": [
        "import matplotlib.pyplot as plt\n",
        "val_acc_random = history_random.history[\"val_accuracy\"]\n",
        "train_acc_random = history_random.history[\"accuracy\"]\n",
        "epochs = range(1, 11)\n",
        "plt.plot(epochs, val_acc_random, \"b-\",\n",
        "         label=\"Validation accuracy with noise channels\")\n",
        "plt.plot(epochs, val_acc_zeros, \"b--\",\n",
        "         label=\"Validation accuracy with zeros channels\")\n",
        "plt.title(\"Effect of noise channels on validation accuracy\")\n",
        "plt.xlabel(\"Epochs\")\n",
        "plt.ylabel(\"Accuracy\")\n",
        "plt.legend()"
      ],
      "metadata": {
        "colab": {
          "base_uri": "https://localhost:8080/",
          "height": 814
        },
        "id": "nLE0Caki7Qx8",
        "outputId": "004e0e63-4a7d-441f-caa4-7b69eab89328"
      },
      "execution_count": 6,
      "outputs": [
        {
          "output_type": "error",
          "ename": "ValueError",
          "evalue": "ignored",
          "traceback": [
            "\u001b[0;31m---------------------------------------------------------------------------\u001b[0m",
            "\u001b[0;31mValueError\u001b[0m                                Traceback (most recent call last)",
            "\u001b[0;32m<ipython-input-6-840c5a151a7b>\u001b[0m in \u001b[0;36m<cell line: 5>\u001b[0;34m()\u001b[0m\n\u001b[1;32m      3\u001b[0m \u001b[0mtrain_acc_random\u001b[0m \u001b[0;34m=\u001b[0m \u001b[0mhistory_random\u001b[0m\u001b[0;34m.\u001b[0m\u001b[0mhistory\u001b[0m\u001b[0;34m[\u001b[0m\u001b[0;34m\"accuracy\"\u001b[0m\u001b[0;34m]\u001b[0m\u001b[0;34m\u001b[0m\u001b[0;34m\u001b[0m\u001b[0m\n\u001b[1;32m      4\u001b[0m \u001b[0mepochs\u001b[0m \u001b[0;34m=\u001b[0m \u001b[0mrange\u001b[0m\u001b[0;34m(\u001b[0m\u001b[0;36m1\u001b[0m\u001b[0;34m,\u001b[0m \u001b[0;36m11\u001b[0m\u001b[0;34m)\u001b[0m\u001b[0;34m\u001b[0m\u001b[0;34m\u001b[0m\u001b[0m\n\u001b[0;32m----> 5\u001b[0;31m plt.plot(epochs, val_acc_random, \"b-\",\n\u001b[0m\u001b[1;32m      6\u001b[0m          label=\"Validation accuracy with noise channels\")\n\u001b[1;32m      7\u001b[0m plt.plot(epochs, val_acc_zeros, \"b--\",\n",
            "\u001b[0;32m/usr/local/lib/python3.9/dist-packages/matplotlib/pyplot.py\u001b[0m in \u001b[0;36mplot\u001b[0;34m(scalex, scaley, data, *args, **kwargs)\u001b[0m\n\u001b[1;32m   2810\u001b[0m \u001b[0;34m@\u001b[0m\u001b[0m_copy_docstring_and_deprecators\u001b[0m\u001b[0;34m(\u001b[0m\u001b[0mAxes\u001b[0m\u001b[0;34m.\u001b[0m\u001b[0mplot\u001b[0m\u001b[0;34m)\u001b[0m\u001b[0;34m\u001b[0m\u001b[0;34m\u001b[0m\u001b[0m\n\u001b[1;32m   2811\u001b[0m \u001b[0;32mdef\u001b[0m \u001b[0mplot\u001b[0m\u001b[0;34m(\u001b[0m\u001b[0;34m*\u001b[0m\u001b[0margs\u001b[0m\u001b[0;34m,\u001b[0m \u001b[0mscalex\u001b[0m\u001b[0;34m=\u001b[0m\u001b[0;32mTrue\u001b[0m\u001b[0;34m,\u001b[0m \u001b[0mscaley\u001b[0m\u001b[0;34m=\u001b[0m\u001b[0;32mTrue\u001b[0m\u001b[0;34m,\u001b[0m \u001b[0mdata\u001b[0m\u001b[0;34m=\u001b[0m\u001b[0;32mNone\u001b[0m\u001b[0;34m,\u001b[0m \u001b[0;34m**\u001b[0m\u001b[0mkwargs\u001b[0m\u001b[0;34m)\u001b[0m\u001b[0;34m:\u001b[0m\u001b[0;34m\u001b[0m\u001b[0;34m\u001b[0m\u001b[0m\n\u001b[0;32m-> 2812\u001b[0;31m     return gca().plot(\n\u001b[0m\u001b[1;32m   2813\u001b[0m         \u001b[0;34m*\u001b[0m\u001b[0margs\u001b[0m\u001b[0;34m,\u001b[0m \u001b[0mscalex\u001b[0m\u001b[0;34m=\u001b[0m\u001b[0mscalex\u001b[0m\u001b[0;34m,\u001b[0m \u001b[0mscaley\u001b[0m\u001b[0;34m=\u001b[0m\u001b[0mscaley\u001b[0m\u001b[0;34m,\u001b[0m\u001b[0;34m\u001b[0m\u001b[0;34m\u001b[0m\u001b[0m\n\u001b[1;32m   2814\u001b[0m         **({\"data\": data} if data is not None else {}), **kwargs)\n",
            "\u001b[0;32m/usr/local/lib/python3.9/dist-packages/matplotlib/axes/_axes.py\u001b[0m in \u001b[0;36mplot\u001b[0;34m(self, scalex, scaley, data, *args, **kwargs)\u001b[0m\n\u001b[1;32m   1686\u001b[0m         \"\"\"\n\u001b[1;32m   1687\u001b[0m         \u001b[0mkwargs\u001b[0m \u001b[0;34m=\u001b[0m \u001b[0mcbook\u001b[0m\u001b[0;34m.\u001b[0m\u001b[0mnormalize_kwargs\u001b[0m\u001b[0;34m(\u001b[0m\u001b[0mkwargs\u001b[0m\u001b[0;34m,\u001b[0m \u001b[0mmlines\u001b[0m\u001b[0;34m.\u001b[0m\u001b[0mLine2D\u001b[0m\u001b[0;34m)\u001b[0m\u001b[0;34m\u001b[0m\u001b[0;34m\u001b[0m\u001b[0m\n\u001b[0;32m-> 1688\u001b[0;31m         \u001b[0mlines\u001b[0m \u001b[0;34m=\u001b[0m \u001b[0;34m[\u001b[0m\u001b[0;34m*\u001b[0m\u001b[0mself\u001b[0m\u001b[0;34m.\u001b[0m\u001b[0m_get_lines\u001b[0m\u001b[0;34m(\u001b[0m\u001b[0;34m*\u001b[0m\u001b[0margs\u001b[0m\u001b[0;34m,\u001b[0m \u001b[0mdata\u001b[0m\u001b[0;34m=\u001b[0m\u001b[0mdata\u001b[0m\u001b[0;34m,\u001b[0m \u001b[0;34m**\u001b[0m\u001b[0mkwargs\u001b[0m\u001b[0;34m)\u001b[0m\u001b[0;34m]\u001b[0m\u001b[0;34m\u001b[0m\u001b[0;34m\u001b[0m\u001b[0m\n\u001b[0m\u001b[1;32m   1689\u001b[0m         \u001b[0;32mfor\u001b[0m \u001b[0mline\u001b[0m \u001b[0;32min\u001b[0m \u001b[0mlines\u001b[0m\u001b[0;34m:\u001b[0m\u001b[0;34m\u001b[0m\u001b[0;34m\u001b[0m\u001b[0m\n\u001b[1;32m   1690\u001b[0m             \u001b[0mself\u001b[0m\u001b[0;34m.\u001b[0m\u001b[0madd_line\u001b[0m\u001b[0;34m(\u001b[0m\u001b[0mline\u001b[0m\u001b[0;34m)\u001b[0m\u001b[0;34m\u001b[0m\u001b[0;34m\u001b[0m\u001b[0m\n",
            "\u001b[0;32m/usr/local/lib/python3.9/dist-packages/matplotlib/axes/_base.py\u001b[0m in \u001b[0;36m__call__\u001b[0;34m(self, data, *args, **kwargs)\u001b[0m\n\u001b[1;32m    309\u001b[0m                 \u001b[0mthis\u001b[0m \u001b[0;34m+=\u001b[0m \u001b[0margs\u001b[0m\u001b[0;34m[\u001b[0m\u001b[0;36m0\u001b[0m\u001b[0;34m]\u001b[0m\u001b[0;34m,\u001b[0m\u001b[0;34m\u001b[0m\u001b[0;34m\u001b[0m\u001b[0m\n\u001b[1;32m    310\u001b[0m                 \u001b[0margs\u001b[0m \u001b[0;34m=\u001b[0m \u001b[0margs\u001b[0m\u001b[0;34m[\u001b[0m\u001b[0;36m1\u001b[0m\u001b[0;34m:\u001b[0m\u001b[0;34m]\u001b[0m\u001b[0;34m\u001b[0m\u001b[0;34m\u001b[0m\u001b[0m\n\u001b[0;32m--> 311\u001b[0;31m             yield from self._plot_args(\n\u001b[0m\u001b[1;32m    312\u001b[0m                 this, kwargs, ambiguous_fmt_datakey=ambiguous_fmt_datakey)\n\u001b[1;32m    313\u001b[0m \u001b[0;34m\u001b[0m\u001b[0m\n",
            "\u001b[0;32m/usr/local/lib/python3.9/dist-packages/matplotlib/axes/_base.py\u001b[0m in \u001b[0;36m_plot_args\u001b[0;34m(self, tup, kwargs, return_kwargs, ambiguous_fmt_datakey)\u001b[0m\n\u001b[1;32m    502\u001b[0m \u001b[0;34m\u001b[0m\u001b[0m\n\u001b[1;32m    503\u001b[0m         \u001b[0;32mif\u001b[0m \u001b[0mx\u001b[0m\u001b[0;34m.\u001b[0m\u001b[0mshape\u001b[0m\u001b[0;34m[\u001b[0m\u001b[0;36m0\u001b[0m\u001b[0;34m]\u001b[0m \u001b[0;34m!=\u001b[0m \u001b[0my\u001b[0m\u001b[0;34m.\u001b[0m\u001b[0mshape\u001b[0m\u001b[0;34m[\u001b[0m\u001b[0;36m0\u001b[0m\u001b[0;34m]\u001b[0m\u001b[0;34m:\u001b[0m\u001b[0;34m\u001b[0m\u001b[0;34m\u001b[0m\u001b[0m\n\u001b[0;32m--> 504\u001b[0;31m             raise ValueError(f\"x and y must have same first dimension, but \"\n\u001b[0m\u001b[1;32m    505\u001b[0m                              f\"have shapes {x.shape} and {y.shape}\")\n\u001b[1;32m    506\u001b[0m         \u001b[0;32mif\u001b[0m \u001b[0mx\u001b[0m\u001b[0;34m.\u001b[0m\u001b[0mndim\u001b[0m \u001b[0;34m>\u001b[0m \u001b[0;36m2\u001b[0m \u001b[0;32mor\u001b[0m \u001b[0my\u001b[0m\u001b[0;34m.\u001b[0m\u001b[0mndim\u001b[0m \u001b[0;34m>\u001b[0m \u001b[0;36m2\u001b[0m\u001b[0;34m:\u001b[0m\u001b[0;34m\u001b[0m\u001b[0;34m\u001b[0m\u001b[0m\n",
            "\u001b[0;31mValueError\u001b[0m: x and y must have same first dimension, but have shapes (10,) and (100,)"
          ]
        },
        {
          "output_type": "display_data",
          "data": {
            "text/plain": [
              "<Figure size 640x480 with 1 Axes>"
            ],
            "image/png": "[encoded data removed]"
          },
          "metadata": {}
        }
      ]
    }
  ],
  "metadata": {
    "colab": {
      "provenance": [],
      "toc_visible": true,
      "gpuType": "T4",
      "include_colab_link": true
    },
    "kernelspec": {
      "display_name": "Python 3",
      "language": "python",
      "name": "python3"
    },
    "language_info": {
      "codemirror_mode": {
        "name": "ipython",
        "version": 3
      },
      "file_extension": ".py",
      "mimetype": "text/x-python",
      "name": "python",
      "nbconvert_exporter": "python",
      "pygments_lexer": "ipython3",
      "version": "3.7.0"
    },
    "accelerator": "GPU",
    "gpuClass": "standard"
  },
  "nbformat": 4,
  "nbformat_minor": 0
}